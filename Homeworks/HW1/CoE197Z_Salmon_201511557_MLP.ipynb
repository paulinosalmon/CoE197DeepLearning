{
  "nbformat": 4,
  "nbformat_minor": 0,
  "metadata": {
    "colab": {
      "name": "CoE197Z_Salmon_201511557_MLP",
      "provenance": [],
      "collapsed_sections": []
    },
    "kernelspec": {
      "name": "python3",
      "display_name": "Python 3"
    },
    "accelerator": "GPU"
  },
  "cells": [
    {
      "cell_type": "code",
      "metadata": {
        "id": "Q6KrxCdUsVnW",
        "colab_type": "code",
        "outputId": "ffe00e79-341a-4aff-8253-182569ad169c",
        "colab": {
          "base_uri": "https://localhost:8080/",
          "height": 35
        }
      },
      "source": [
        "# Library Imports\n",
        "from __future__ import absolute_import\n",
        "from __future__ import division\n",
        "from __future__ import print_function\n",
        "\n",
        "import numpy as np\n",
        "\n",
        "from keras.models import Sequential\n",
        "from keras.layers import Dense, Activation, Dropout\n",
        "from keras.utils import plot_model, to_categorical, np_utils\n",
        "from keras.datasets import cifar10"
      ],
      "execution_count": 3,
      "outputs": [
        {
          "output_type": "stream",
          "text": [
            "Using TensorFlow backend.\n"
          ],
          "name": "stderr"
        }
      ]
    },
    {
      "cell_type": "code",
      "metadata": {
        "id": "VSHRnWo7R6TK",
        "colab_type": "code",
        "colab": {
          "base_uri": "https://localhost:8080/",
          "height": 53
        },
        "outputId": "8b22258f-5009-4a51-ec1f-1ccdde901be2"
      },
      "source": [
        "# Load CIFAR10 dataset\n",
        "(x_train, y_train), (x_test, y_test) = cifar10.load_data()"
      ],
      "execution_count": 4,
      "outputs": [
        {
          "output_type": "stream",
          "text": [
            "Downloading data from https://www.cs.toronto.edu/~kriz/cifar-10-python.tar.gz\n",
            "170500096/170498071 [==============================] - 6s 0us/step\n"
          ],
          "name": "stdout"
        }
      ]
    },
    {
      "cell_type": "code",
      "metadata": {
        "id": "VckoRbZSjlKE",
        "colab_type": "code",
        "colab": {
          "base_uri": "https://localhost:8080/",
          "height": 35
        },
        "outputId": "4e4c5e0d-0dc5-48ad-9b74-46eeeda7d0b5"
      },
      "source": [
        "# Get RGB Equivalent\n",
        "num_pixels = x_train.shape[1]*x_train.shape[2]*x_train.shape[3]\n",
        "print(num_pixels)\n",
        "# 3 (RGB) * 32 * 32"
      ],
      "execution_count": 5,
      "outputs": [
        {
          "output_type": "stream",
          "text": [
            "3072\n"
          ],
          "name": "stdout"
        }
      ]
    },
    {
      "cell_type": "code",
      "metadata": {
        "id": "YgS3hE0dN8oj",
        "colab_type": "code",
        "colab": {}
      },
      "source": [
        "# Flatten data\n",
        "x_train = x_train.reshape(-1, num_pixels).astype('float32')\n",
        "x_test = x_test.reshape(-1, num_pixels).astype('float32')"
      ],
      "execution_count": 0,
      "outputs": []
    },
    {
      "cell_type": "code",
      "metadata": {
        "id": "tCu0QOhISIPm",
        "colab_type": "code",
        "colab": {
          "base_uri": "https://localhost:8080/",
          "height": 35
        },
        "outputId": "225294e5-3aa7-4309-f3eb-891fbb17a8ef"
      },
      "source": [
        "# Convert to one-hot vector\n",
        "y_train = np_utils.to_categorical(y_train)\n",
        "y_test = np_utils.to_categorical(y_test)\n",
        "num_class = y_train.shape[1]\n",
        "print(num_class)"
      ],
      "execution_count": 7,
      "outputs": [
        {
          "output_type": "stream",
          "text": [
            "10\n"
          ],
          "name": "stdout"
        }
      ]
    },
    {
      "cell_type": "code",
      "metadata": {
        "id": "TosXs-oFSMSj",
        "colab_type": "code",
        "colab": {}
      },
      "source": [
        "# Scaling\n",
        "x_train = x_train/255\n",
        "x_test = x_test/255"
      ],
      "execution_count": 0,
      "outputs": []
    },
    {
      "cell_type": "code",
      "metadata": {
        "id": "suwOJEO_STjq",
        "colab_type": "code",
        "colab": {
          "base_uri": "https://localhost:8080/",
          "height": 73
        },
        "outputId": "dc0004da-f515-42ac-f03a-7814343babcb"
      },
      "source": [
        "# Deep Learning Model: 3-layer MLP network \n",
        "model = Sequential()\n",
        "# ---------- LAYERS ----------\n",
        "# 1st MLP\n",
        "model.add(Dense(512, activation = 'relu'))\n",
        "model.add(Dropout(0.2))\n",
        "# 2nd MLP\n",
        "model.add(Dense(256, activation = 'relu'))\n",
        "model.add(Dropout(0.25))\n",
        "# 3rd MLP\n",
        "model.add(Dense(10, activation = 'softmax'))"
      ],
      "execution_count": 9,
      "outputs": [
        {
          "output_type": "stream",
          "text": [
            "WARNING:tensorflow:From /usr/local/lib/python3.6/dist-packages/keras/backend/tensorflow_backend.py:66: The name tf.get_default_graph is deprecated. Please use tf.compat.v1.get_default_graph instead.\n",
            "\n"
          ],
          "name": "stdout"
        }
      ]
    },
    {
      "cell_type": "code",
      "metadata": {
        "id": "l2mspzgmSZeF",
        "colab_type": "code",
        "colab": {
          "base_uri": "https://localhost:8080/",
          "height": 73
        },
        "outputId": "ced28023-396c-49d5-ee23-df149452e548"
      },
      "source": [
        "# Indicate the loss function and use SGD as optimizer\n",
        "model.compile(loss='categorical_crossentropy', optimizer='sgd', metrics=['accuracy'])"
      ],
      "execution_count": 10,
      "outputs": [
        {
          "output_type": "stream",
          "text": [
            "WARNING:tensorflow:From /usr/local/lib/python3.6/dist-packages/keras/optimizers.py:793: The name tf.train.Optimizer is deprecated. Please use tf.compat.v1.train.Optimizer instead.\n",
            "\n"
          ],
          "name": "stdout"
        }
      ]
    },
    {
      "cell_type": "code",
      "metadata": {
        "id": "tck8_znxSikY",
        "colab_type": "code",
        "colab": {
          "base_uri": "https://localhost:8080/",
          "height": 1000
        },
        "outputId": "506b3946-01c0-44c2-fbc3-7efcede40c2a"
      },
      "source": [
        "# Feed the network with complete dataset (1 epoch) 100 times\n",
        "# Batch size of SGD is 4\n",
        "model.fit(x_train, y_train, epochs = 100, batch_size = 32)"
      ],
      "execution_count": 11,
      "outputs": [
        {
          "output_type": "stream",
          "text": [
            "WARNING:tensorflow:From /usr/local/lib/python3.6/dist-packages/keras/backend/tensorflow_backend.py:541: The name tf.placeholder is deprecated. Please use tf.compat.v1.placeholder instead.\n",
            "\n",
            "WARNING:tensorflow:From /usr/local/lib/python3.6/dist-packages/keras/backend/tensorflow_backend.py:4432: The name tf.random_uniform is deprecated. Please use tf.random.uniform instead.\n",
            "\n",
            "WARNING:tensorflow:From /usr/local/lib/python3.6/dist-packages/keras/backend/tensorflow_backend.py:148: The name tf.placeholder_with_default is deprecated. Please use tf.compat.v1.placeholder_with_default instead.\n",
            "\n",
            "WARNING:tensorflow:From /usr/local/lib/python3.6/dist-packages/keras/backend/tensorflow_backend.py:3733: calling dropout (from tensorflow.python.ops.nn_ops) with keep_prob is deprecated and will be removed in a future version.\n",
            "Instructions for updating:\n",
            "Please use `rate` instead of `keep_prob`. Rate should be set to `rate = 1 - keep_prob`.\n",
            "WARNING:tensorflow:From /usr/local/lib/python3.6/dist-packages/keras/backend/tensorflow_backend.py:3576: The name tf.log is deprecated. Please use tf.math.log instead.\n",
            "\n",
            "WARNING:tensorflow:From /usr/local/lib/python3.6/dist-packages/tensorflow/python/ops/math_grad.py:1250: add_dispatch_support.<locals>.wrapper (from tensorflow.python.ops.array_ops) is deprecated and will be removed in a future version.\n",
            "Instructions for updating:\n",
            "Use tf.where in 2.0, which has the same broadcast rule as np.where\n",
            "Epoch 1/100\n",
            "50000/50000 [==============================] - 12s 248us/step - loss: 1.9400 - acc: 0.2979\n",
            "Epoch 2/100\n",
            "50000/50000 [==============================] - 8s 162us/step - loss: 1.7683 - acc: 0.3702\n",
            "Epoch 3/100\n",
            "50000/50000 [==============================] - 8s 162us/step - loss: 1.6957 - acc: 0.3962\n",
            "Epoch 4/100\n",
            "50000/50000 [==============================] - 9s 172us/step - loss: 1.6450 - acc: 0.4152\n",
            "Epoch 5/100\n",
            "50000/50000 [==============================] - 9s 174us/step - loss: 1.6040 - acc: 0.4290\n",
            "Epoch 6/100\n",
            "50000/50000 [==============================] - 8s 168us/step - loss: 1.5709 - acc: 0.4443\n",
            "Epoch 7/100\n",
            "50000/50000 [==============================] - 8s 167us/step - loss: 1.5428 - acc: 0.4535\n",
            "Epoch 8/100\n",
            "50000/50000 [==============================] - 8s 163us/step - loss: 1.5189 - acc: 0.4628\n",
            "Epoch 9/100\n",
            "50000/50000 [==============================] - 8s 161us/step - loss: 1.4955 - acc: 0.4683\n",
            "Epoch 10/100\n",
            "50000/50000 [==============================] - 8s 164us/step - loss: 1.4735 - acc: 0.4776\n",
            "Epoch 11/100\n",
            "50000/50000 [==============================] - 8s 163us/step - loss: 1.4552 - acc: 0.4862\n",
            "Epoch 12/100\n",
            "50000/50000 [==============================] - 8s 166us/step - loss: 1.4350 - acc: 0.4906\n",
            "Epoch 13/100\n",
            "50000/50000 [==============================] - 8s 161us/step - loss: 1.4215 - acc: 0.4959\n",
            "Epoch 14/100\n",
            "50000/50000 [==============================] - 8s 161us/step - loss: 1.4052 - acc: 0.5019\n",
            "Epoch 15/100\n",
            "50000/50000 [==============================] - 8s 165us/step - loss: 1.3920 - acc: 0.5051\n",
            "Epoch 16/100\n",
            "50000/50000 [==============================] - 8s 163us/step - loss: 1.3772 - acc: 0.5108\n",
            "Epoch 17/100\n",
            "50000/50000 [==============================] - 8s 161us/step - loss: 1.3622 - acc: 0.5160\n",
            "Epoch 18/100\n",
            "50000/50000 [==============================] - 8s 162us/step - loss: 1.3487 - acc: 0.5208\n",
            "Epoch 19/100\n",
            "50000/50000 [==============================] - 8s 163us/step - loss: 1.3417 - acc: 0.5240\n",
            "Epoch 20/100\n",
            "50000/50000 [==============================] - 8s 163us/step - loss: 1.3256 - acc: 0.5291\n",
            "Epoch 21/100\n",
            "50000/50000 [==============================] - 8s 161us/step - loss: 1.3136 - acc: 0.5312\n",
            "Epoch 22/100\n",
            "50000/50000 [==============================] - 8s 161us/step - loss: 1.3018 - acc: 0.5375\n",
            "Epoch 23/100\n",
            "50000/50000 [==============================] - 8s 161us/step - loss: 1.2893 - acc: 0.5403\n",
            "Epoch 24/100\n",
            "50000/50000 [==============================] - 8s 163us/step - loss: 1.2803 - acc: 0.5435\n",
            "Epoch 25/100\n",
            "50000/50000 [==============================] - 8s 160us/step - loss: 1.2644 - acc: 0.5506\n",
            "Epoch 26/100\n",
            "50000/50000 [==============================] - 8s 165us/step - loss: 1.2600 - acc: 0.5489\n",
            "Epoch 27/100\n",
            "50000/50000 [==============================] - 8s 163us/step - loss: 1.2498 - acc: 0.5524\n",
            "Epoch 28/100\n",
            "50000/50000 [==============================] - 8s 160us/step - loss: 1.2370 - acc: 0.5585\n",
            "Epoch 29/100\n",
            "50000/50000 [==============================] - 8s 162us/step - loss: 1.2319 - acc: 0.5628\n",
            "Epoch 30/100\n",
            "50000/50000 [==============================] - 8s 161us/step - loss: 1.2206 - acc: 0.5651\n",
            "Epoch 31/100\n",
            "50000/50000 [==============================] - 8s 164us/step - loss: 1.2123 - acc: 0.5690\n",
            "Epoch 32/100\n",
            "50000/50000 [==============================] - 8s 162us/step - loss: 1.2051 - acc: 0.5702\n",
            "Epoch 33/100\n",
            "50000/50000 [==============================] - 8s 163us/step - loss: 1.1938 - acc: 0.5740\n",
            "Epoch 34/100\n",
            "50000/50000 [==============================] - 8s 162us/step - loss: 1.1841 - acc: 0.5774\n",
            "Epoch 35/100\n",
            "50000/50000 [==============================] - 8s 161us/step - loss: 1.1805 - acc: 0.5774\n",
            "Epoch 36/100\n",
            "50000/50000 [==============================] - 8s 161us/step - loss: 1.1662 - acc: 0.5845\n",
            "Epoch 37/100\n",
            "50000/50000 [==============================] - 8s 162us/step - loss: 1.1611 - acc: 0.5891\n",
            "Epoch 38/100\n",
            "50000/50000 [==============================] - 8s 162us/step - loss: 1.1508 - acc: 0.5903\n",
            "Epoch 39/100\n",
            "50000/50000 [==============================] - 8s 162us/step - loss: 1.1452 - acc: 0.5918\n",
            "Epoch 40/100\n",
            "50000/50000 [==============================] - 8s 161us/step - loss: 1.1356 - acc: 0.5945\n",
            "Epoch 41/100\n",
            "50000/50000 [==============================] - 8s 162us/step - loss: 1.1285 - acc: 0.5974\n",
            "Epoch 42/100\n",
            "50000/50000 [==============================] - 8s 168us/step - loss: 1.1161 - acc: 0.5997\n",
            "Epoch 43/100\n",
            "50000/50000 [==============================] - 9s 173us/step - loss: 1.1164 - acc: 0.6013\n",
            "Epoch 44/100\n",
            "50000/50000 [==============================] - 8s 164us/step - loss: 1.1021 - acc: 0.6057\n",
            "Epoch 45/100\n",
            "50000/50000 [==============================] - 8s 163us/step - loss: 1.1016 - acc: 0.6064\n",
            "Epoch 46/100\n",
            "50000/50000 [==============================] - 8s 161us/step - loss: 1.0895 - acc: 0.6112\n",
            "Epoch 47/100\n",
            "50000/50000 [==============================] - 8s 162us/step - loss: 1.0783 - acc: 0.6149\n",
            "Epoch 48/100\n",
            "50000/50000 [==============================] - 8s 165us/step - loss: 1.0744 - acc: 0.6155\n",
            "Epoch 49/100\n",
            "50000/50000 [==============================] - 8s 163us/step - loss: 1.0676 - acc: 0.6187\n",
            "Epoch 50/100\n",
            "50000/50000 [==============================] - 8s 162us/step - loss: 1.0592 - acc: 0.6202\n",
            "Epoch 51/100\n",
            "50000/50000 [==============================] - 8s 161us/step - loss: 1.0541 - acc: 0.6229\n",
            "Epoch 52/100\n",
            "50000/50000 [==============================] - 8s 162us/step - loss: 1.0512 - acc: 0.6246\n",
            "Epoch 53/100\n",
            "50000/50000 [==============================] - 8s 164us/step - loss: 1.0371 - acc: 0.6282\n",
            "Epoch 54/100\n",
            "50000/50000 [==============================] - 8s 162us/step - loss: 1.0344 - acc: 0.6299\n",
            "Epoch 55/100\n",
            "50000/50000 [==============================] - 8s 162us/step - loss: 1.0309 - acc: 0.6315\n",
            "Epoch 56/100\n",
            "50000/50000 [==============================] - 8s 165us/step - loss: 1.0210 - acc: 0.6361\n",
            "Epoch 57/100\n",
            "50000/50000 [==============================] - 8s 166us/step - loss: 1.0174 - acc: 0.6368\n",
            "Epoch 58/100\n",
            "50000/50000 [==============================] - 8s 163us/step - loss: 1.0080 - acc: 0.6380\n",
            "Epoch 59/100\n",
            "50000/50000 [==============================] - 8s 162us/step - loss: 1.0006 - acc: 0.6405\n",
            "Epoch 60/100\n",
            "50000/50000 [==============================] - 8s 162us/step - loss: 0.9948 - acc: 0.6443\n",
            "Epoch 61/100\n",
            "50000/50000 [==============================] - 8s 161us/step - loss: 0.9848 - acc: 0.6481\n",
            "Epoch 62/100\n",
            "50000/50000 [==============================] - 8s 163us/step - loss: 0.9790 - acc: 0.6495\n",
            "Epoch 63/100\n",
            "50000/50000 [==============================] - 8s 161us/step - loss: 0.9727 - acc: 0.6493\n",
            "Epoch 64/100\n",
            "50000/50000 [==============================] - 8s 160us/step - loss: 0.9655 - acc: 0.6545\n",
            "Epoch 65/100\n",
            "50000/50000 [==============================] - 8s 160us/step - loss: 0.9635 - acc: 0.6539\n",
            "Epoch 66/100\n",
            "50000/50000 [==============================] - 8s 163us/step - loss: 0.9528 - acc: 0.6564\n",
            "Epoch 67/100\n",
            "50000/50000 [==============================] - 8s 162us/step - loss: 0.9473 - acc: 0.6604\n",
            "Epoch 68/100\n",
            "50000/50000 [==============================] - 8s 163us/step - loss: 0.9367 - acc: 0.6619\n",
            "Epoch 69/100\n",
            "50000/50000 [==============================] - 8s 161us/step - loss: 0.9370 - acc: 0.6622\n",
            "Epoch 70/100\n",
            "50000/50000 [==============================] - 8s 162us/step - loss: 0.9309 - acc: 0.6625\n",
            "Epoch 71/100\n",
            "50000/50000 [==============================] - 8s 163us/step - loss: 0.9292 - acc: 0.6660\n",
            "Epoch 72/100\n",
            "50000/50000 [==============================] - 8s 163us/step - loss: 0.9212 - acc: 0.6694\n",
            "Epoch 73/100\n",
            "50000/50000 [==============================] - 8s 162us/step - loss: 0.9124 - acc: 0.6726\n",
            "Epoch 74/100\n",
            "50000/50000 [==============================] - 8s 162us/step - loss: 0.9051 - acc: 0.6755\n",
            "Epoch 75/100\n",
            "50000/50000 [==============================] - 8s 164us/step - loss: 0.9050 - acc: 0.6736\n",
            "Epoch 76/100\n",
            "50000/50000 [==============================] - 8s 162us/step - loss: 0.8969 - acc: 0.6777\n",
            "Epoch 77/100\n",
            "50000/50000 [==============================] - 8s 162us/step - loss: 0.8960 - acc: 0.6775\n",
            "Epoch 78/100\n",
            "50000/50000 [==============================] - 8s 163us/step - loss: 0.8862 - acc: 0.6826\n",
            "Epoch 79/100\n",
            "50000/50000 [==============================] - 8s 161us/step - loss: 0.8821 - acc: 0.6845\n",
            "Epoch 80/100\n",
            "50000/50000 [==============================] - 8s 164us/step - loss: 0.8771 - acc: 0.6828\n",
            "Epoch 81/100\n",
            "50000/50000 [==============================] - 9s 174us/step - loss: 0.8734 - acc: 0.6855\n",
            "Epoch 82/100\n",
            "50000/50000 [==============================] - 8s 163us/step - loss: 0.8662 - acc: 0.6879\n",
            "Epoch 83/100\n",
            "50000/50000 [==============================] - 8s 162us/step - loss: 0.8594 - acc: 0.6897\n",
            "Epoch 84/100\n",
            "50000/50000 [==============================] - 8s 161us/step - loss: 0.8519 - acc: 0.6937\n",
            "Epoch 85/100\n",
            "50000/50000 [==============================] - 8s 161us/step - loss: 0.8528 - acc: 0.6934\n",
            "Epoch 86/100\n",
            "50000/50000 [==============================] - 8s 161us/step - loss: 0.8412 - acc: 0.6996\n",
            "Epoch 87/100\n",
            "50000/50000 [==============================] - 8s 161us/step - loss: 0.8443 - acc: 0.6966\n",
            "Epoch 88/100\n",
            "50000/50000 [==============================] - 8s 162us/step - loss: 0.8284 - acc: 0.7035\n",
            "Epoch 89/100\n",
            "50000/50000 [==============================] - 8s 163us/step - loss: 0.8280 - acc: 0.7027\n",
            "Epoch 90/100\n",
            "50000/50000 [==============================] - 8s 160us/step - loss: 0.8287 - acc: 0.7020\n",
            "Epoch 91/100\n",
            "50000/50000 [==============================] - 8s 161us/step - loss: 0.8159 - acc: 0.7061\n",
            "Epoch 92/100\n",
            "50000/50000 [==============================] - 8s 161us/step - loss: 0.8118 - acc: 0.7076\n",
            "Epoch 93/100\n",
            "50000/50000 [==============================] - 8s 160us/step - loss: 0.8097 - acc: 0.7079\n",
            "Epoch 94/100\n",
            "50000/50000 [==============================] - 8s 161us/step - loss: 0.8017 - acc: 0.7081\n",
            "Epoch 95/100\n",
            "50000/50000 [==============================] - 8s 164us/step - loss: 0.7944 - acc: 0.7151\n",
            "Epoch 96/100\n",
            "50000/50000 [==============================] - 8s 162us/step - loss: 0.7936 - acc: 0.7133\n",
            "Epoch 97/100\n",
            "50000/50000 [==============================] - 8s 165us/step - loss: 0.7867 - acc: 0.7163\n",
            "Epoch 98/100\n",
            "50000/50000 [==============================] - 8s 162us/step - loss: 0.7849 - acc: 0.7163\n",
            "Epoch 99/100\n",
            "50000/50000 [==============================] - 8s 160us/step - loss: 0.7735 - acc: 0.7211\n",
            "Epoch 100/100\n",
            "50000/50000 [==============================] - 8s 161us/step - loss: 0.7808 - acc: 0.7184\n"
          ],
          "name": "stdout"
        },
        {
          "output_type": "execute_result",
          "data": {
            "text/plain": [
              "<keras.callbacks.History at 0x7f3fde3009b0>"
            ]
          },
          "metadata": {
            "tags": []
          },
          "execution_count": 11
        }
      ]
    },
    {
      "cell_type": "code",
      "metadata": {
        "id": "7GNqd2MwSoc3",
        "colab_type": "code",
        "colab": {
          "base_uri": "https://localhost:8080/",
          "height": 341
        },
        "outputId": "2a70d755-a9dd-4162-fe60-9ea2e08e3b47"
      },
      "source": [
        "# Print summary to double check the network\n",
        "model.summary()"
      ],
      "execution_count": 12,
      "outputs": [
        {
          "output_type": "stream",
          "text": [
            "Model: \"sequential_1\"\n",
            "_________________________________________________________________\n",
            "Layer (type)                 Output Shape              Param #   \n",
            "=================================================================\n",
            "dense_1 (Dense)              (None, 512)               1573376   \n",
            "_________________________________________________________________\n",
            "dropout_1 (Dropout)          (None, 512)               0         \n",
            "_________________________________________________________________\n",
            "dense_2 (Dense)              (None, 256)               131328    \n",
            "_________________________________________________________________\n",
            "dropout_2 (Dropout)          (None, 256)               0         \n",
            "_________________________________________________________________\n",
            "dense_3 (Dense)              (None, 10)                2570      \n",
            "=================================================================\n",
            "Total params: 1,707,274\n",
            "Trainable params: 1,707,274\n",
            "Non-trainable params: 0\n",
            "_________________________________________________________________\n"
          ],
          "name": "stdout"
        }
      ]
    },
    {
      "cell_type": "code",
      "metadata": {
        "id": "MgWl81sJSvCW",
        "colab_type": "code",
        "colab": {
          "base_uri": "https://localhost:8080/",
          "height": 644
        },
        "outputId": "ea8c53e5-3252-47f7-d9f5-f5d111cf3ce0"
      },
      "source": [
        "# Create a nice image of the network model\n",
        "plot_model(model, to_file = 'linear-model.png', show_shapes = True)"
      ],
      "execution_count": 13,
      "outputs": [
        {
          "output_type": "execute_result",
          "data": {
            "image/png": "[encoded data removed]",
            "text/plain": [
              "<IPython.core.display.Image object>"
            ]
          },
          "metadata": {
            "tags": []
          },
          "execution_count": 13
        }
      ]
    },
    {
      "cell_type": "code",
      "metadata": {
        "id": "dANIVxEnSwtI",
        "colab_type": "code",
        "colab": {
          "base_uri": "https://localhost:8080/",
          "height": 53
        },
        "outputId": "eeda9c5d-47c7-4fc8-f079-c845ec4ce765"
      },
      "source": [
        "# Print final accuracy\n",
        "loss, acc = model.evaluate(x_test, y_test, batch_size = 32)\n",
        "print(\"Test accuracy: %.2f%%\" % (100 * acc))"
      ],
      "execution_count": 14,
      "outputs": [
        {
          "output_type": "stream",
          "text": [
            "10000/10000 [==============================] - 1s 65us/step\n",
            "Test accuracy: 56.44%\n"
          ],
          "name": "stdout"
        }
      ]
    }
  ]
}