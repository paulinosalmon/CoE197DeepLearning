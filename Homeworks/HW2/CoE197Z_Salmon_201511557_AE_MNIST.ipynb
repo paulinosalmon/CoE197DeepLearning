{
  "nbformat": 4,
  "nbformat_minor": 0,
  "metadata": {
    "colab": {
      "name": "MNIST Autoencoder (Ver. 3)",
      "provenance": [],
      "collapsed_sections": []
    },
    "kernelspec": {
      "name": "python3",
      "display_name": "Python 3"
    },
    "accelerator": "GPU"
  },
  "cells": [
    {
      "cell_type": "code",
      "metadata": {
        "id": "BbXEbT0bhLfY",
        "colab_type": "code",
        "outputId": "a4947882-098c-489e-fd77-0efd4f274791",
        "colab": {
          "base_uri": "https://localhost:8080/",
          "height": 35
        }
      },
      "source": [
        "from __future__ import absolute_import\n",
        "from __future__ import division\n",
        "from __future__ import print_function\n",
        "\n",
        "import keras\n",
        "import torch\n",
        "import random\n",
        "import torchvision\n",
        "import numpy as np\n",
        "import matplotlib.pyplot as plt\n",
        "\n",
        "from PIL import Image\n",
        "from keras.layers import Activation, Dense, Input, Conv2D, Flatten, Reshape, Conv2DTranspose\n",
        "from keras.utils import to_categorical, plot_model\n",
        "from keras.callbacks import ModelCheckpoint, History\n",
        "from keras.models import Model\n",
        "from keras.datasets import mnist\n",
        "from keras import backend as K"
      ],
      "execution_count": 1,
      "outputs": [
        {
          "output_type": "stream",
          "text": [
            "Using TensorFlow backend.\n"
          ],
          "name": "stderr"
        }
      ]
    },
    {
      "cell_type": "code",
      "metadata": {
        "id": "fr4aVQPK_Rv5",
        "colab_type": "code",
        "outputId": "be561ef5-39b3-4bee-a2d7-ec92d971861d",
        "colab": {
          "base_uri": "https://localhost:8080/",
          "height": 53
        }
      },
      "source": [
        "# MNIST dataset\n",
        "(x_train, _), (x_test, _) = mnist.load_data()"
      ],
      "execution_count": 2,
      "outputs": [
        {
          "output_type": "stream",
          "text": [
            "Downloading data from https://s3.amazonaws.com/img-datasets/mnist.npz\n",
            "11493376/11490434 [==============================] - 0s 0us/step\n"
          ],
          "name": "stdout"
        }
      ]
    },
    {
      "cell_type": "code",
      "metadata": {
        "id": "WtzFaU94UCrQ",
        "colab_type": "code",
        "colab": {}
      },
      "source": [
        "def corrupt_mnist_img(rng, img, value):\n",
        "    \"\"\"Corrupt a single MNIST image.\n",
        "    Note that the image itself is MODIFIED.\n",
        "    :param rng: instance of numpy.random.RandomState\n",
        "    :param img: image to modify. ndarray or compatible\n",
        "    :param value: pixel value to use for corrupting the image\n",
        "    :return: modified image\n",
        "    \"\"\"\n",
        "    # Choose square size\n",
        "    s = rng.randint(7, 14)\n",
        "    # Choose top-left corner position\n",
        "    x = rng.randint(0, 28 - s)\n",
        "    y = rng.randint(0, 28 - s)\n",
        "    # Draw square\n",
        "    img[..., y:y + s, x:x + s] = value\n",
        "    # Return object for convenience\n",
        "    return img\n",
        "\n",
        "\n",
        "def corrupt_mnist_copy(x_train, value=255, seed=0):\n",
        "    \"\"\"Create a corrupted copy of the MNIST dataset\n",
        "    :param x_train: ndarray of images. Shape: (N, ..., H, W)\n",
        "    :param value: pixel value to use for corrupting the image\n",
        "    :param seed: seed to use for the random number generator\n",
        "    :return: ndarray of corrupted images\n",
        "    :return: ndarray of corrupted images\n",
        "    \"\"\"\n",
        "    rng = np.random.RandomState(seed)\n",
        "    corrupted_x_train = x_train.copy()\n",
        "    for img in corrupted_x_train:\n",
        "        corrupt_mnist_img(rng, img, value)\n",
        "    return corrupted_x_train"
      ],
      "execution_count": 0,
      "outputs": []
    },
    {
      "cell_type": "code",
      "metadata": {
        "id": "v0OE34jLUyVa",
        "colab_type": "code",
        "colab": {}
      },
      "source": [
        "image_size = x_train.shape[1]\n",
        "\n",
        "x_train_start = x_train\n",
        "x_test_start = x_test\n",
        "x_train_noisy_start = corrupt_mnist_copy(x_train)\n",
        "x_test_noisy_start = corrupt_mnist_copy(x_test)\n",
        "x_test_noisy_reshaped = np.reshape(x_test_noisy_start, [-1, image_size, image_size, 1])\n",
        "x_test_noisy_reshaped = x_test_noisy_reshaped / 255"
      ],
      "execution_count": 0,
      "outputs": []
    },
    {
      "cell_type": "code",
      "metadata": {
        "id": "39-msG3Khhdx",
        "colab_type": "code",
        "colab": {}
      },
      "source": [
        "x_train = np.reshape(x_train, [-1, image_size, image_size, 1])\n",
        "x_test = np.reshape(x_test, [-1, image_size, image_size, 1])\n",
        "\n",
        "x_train_noisy = corrupt_mnist_copy(x_train)\n",
        "x_test_noisy = corrupt_mnist_copy(x_test)\n",
        "\n",
        "x_train = x_train / 255\n",
        "x_test = x_test  / 255\n",
        "x_train_noisy = x_train_noisy / 255\n",
        "x_test_noisy = x_test_noisy / 255"
      ],
      "execution_count": 0,
      "outputs": []
    },
    {
      "cell_type": "markdown",
      "metadata": {
        "id": "oUPFr0DwDtzw",
        "colab_type": "text"
      },
      "source": [
        "# 1.   **Data Visualization**\n",
        "\n"
      ]
    },
    {
      "cell_type": "code",
      "metadata": {
        "id": "wBYaNhacPvH3",
        "colab_type": "code",
        "outputId": "7decb2e8-1773-4786-ee42-1063d9a32540",
        "colab": {
          "base_uri": "https://localhost:8080/",
          "height": 265
        }
      },
      "source": [
        "print(\"[ORIGINAL DATA]\")\n",
        "fig=plt.figure(figsize=(8, 4))\n",
        "columns = 5\n",
        "rows = 2\n",
        "for i in range(1, columns*rows + 1):\n",
        "    img = x_test_start[i]\n",
        "    fig.add_subplot(rows, columns, i)\n",
        "    plt.imshow(img, cmap='gray')\n",
        "plt.show()"
      ],
      "execution_count": 6,
      "outputs": [
        {
          "output_type": "stream",
          "text": [
            "[ORIGINAL DATA]\n"
          ],
          "name": "stdout"
        },
        {
          "output_type": "display_data",
          "data": {
            "image/png": "[encoded data removed]",
            "text/plain": [
              "<Figure size 576x288 with 10 Axes>"
            ]
          },
          "metadata": {
            "tags": []
          }
        }
      ]
    },
    {
      "cell_type": "code",
      "metadata": {
        "id": "tCYsx5dWSdAJ",
        "colab_type": "code",
        "outputId": "cde3f8c8-4c6e-4cd9-f660-c6702ee98786",
        "colab": {
          "base_uri": "https://localhost:8080/",
          "height": 265
        }
      },
      "source": [
        "print(\"[CORRUPTED DATA]\")\n",
        "fig=plt.figure(figsize=(8, 4))\n",
        "columns = 5\n",
        "rows = 2\n",
        "for i in range(1, columns*rows + 1):\n",
        "    img = x_test_noisy_start[i]\n",
        "    fig.add_subplot(rows, columns, i)\n",
        "    plt.imshow(img, cmap='gray')\n",
        "plt.show()"
      ],
      "execution_count": 7,
      "outputs": [
        {
          "output_type": "stream",
          "text": [
            "[CORRUPTED DATA]\n"
          ],
          "name": "stdout"
        },
        {
          "output_type": "display_data",
          "data": {
            "image/png": "[encoded data removed]",
            "text/plain": [
              "<Figure size 576x288 with 10 Axes>"
            ]
          },
          "metadata": {
            "tags": []
          }
        }
      ]
    },
    {
      "cell_type": "code",
      "metadata": {
        "id": "ub7D6f2JhkJY",
        "colab_type": "code",
        "colab": {}
      },
      "source": [
        "# Network parameters\n",
        "input_shape = (image_size, image_size, 1)\n",
        "batch_size = 128\n",
        "kernel_size = 3\n",
        "latent_dim = 16"
      ],
      "execution_count": 0,
      "outputs": []
    },
    {
      "cell_type": "code",
      "metadata": {
        "id": "nAKKk1VuhlcT",
        "colab_type": "code",
        "colab": {}
      },
      "source": [
        "# Encoder/Decoder number of CNN layers and filters per layer\n",
        "layer_filters = [32, 64]"
      ],
      "execution_count": 0,
      "outputs": []
    },
    {
      "cell_type": "code",
      "metadata": {
        "id": "msXeB42RhmWe",
        "colab_type": "code",
        "outputId": "5002057a-82cc-4d6f-f9dc-e502dd8af23a",
        "colab": {
          "base_uri": "https://localhost:8080/",
          "height": 145
        }
      },
      "source": [
        "inputs = Input(shape=input_shape, name='encoder_input')\n",
        "x = inputs\n",
        "\n",
        "for filters in layer_filters:\n",
        "    x = Conv2D(filters=filters,\n",
        "               kernel_size=kernel_size,\n",
        "               strides=2,\n",
        "               activation='relu',\n",
        "               padding='same')(x)"
      ],
      "execution_count": 10,
      "outputs": [
        {
          "output_type": "stream",
          "text": [
            "WARNING:tensorflow:From /usr/local/lib/python3.6/dist-packages/keras/backend/tensorflow_backend.py:541: The name tf.placeholder is deprecated. Please use tf.compat.v1.placeholder instead.\n",
            "\n",
            "WARNING:tensorflow:From /usr/local/lib/python3.6/dist-packages/keras/backend/tensorflow_backend.py:66: The name tf.get_default_graph is deprecated. Please use tf.compat.v1.get_default_graph instead.\n",
            "\n",
            "WARNING:tensorflow:From /usr/local/lib/python3.6/dist-packages/keras/backend/tensorflow_backend.py:4432: The name tf.random_uniform is deprecated. Please use tf.random.uniform instead.\n",
            "\n"
          ],
          "name": "stdout"
        }
      ]
    },
    {
      "cell_type": "code",
      "metadata": {
        "id": "ASA94Ww7holw",
        "colab_type": "code",
        "colab": {}
      },
      "source": [
        "# Shape info needed to build Decoder Model\n",
        "shape = K.int_shape(x)"
      ],
      "execution_count": 0,
      "outputs": []
    },
    {
      "cell_type": "code",
      "metadata": {
        "id": "5dr4TGTfhpdE",
        "colab_type": "code",
        "colab": {}
      },
      "source": [
        "# Generate the latent vector\n",
        "x = Flatten()(x)\n",
        "latent = Dense(latent_dim, name='latent_vector')(x)"
      ],
      "execution_count": 0,
      "outputs": []
    },
    {
      "cell_type": "code",
      "metadata": {
        "id": "qXepsa--hqFV",
        "colab_type": "code",
        "colab": {}
      },
      "source": [
        "# Instantiate Encoder Model\n",
        "encoder = Model(inputs, latent, name='encoder')"
      ],
      "execution_count": 0,
      "outputs": []
    },
    {
      "cell_type": "code",
      "metadata": {
        "id": "ri47wFMjhqvp",
        "colab_type": "code",
        "colab": {}
      },
      "source": [
        "# Build the Decoder Model\n",
        "latent_inputs = Input(shape=(latent_dim,), name='decoder_input')\n",
        "x = Dense(shape[1] * shape[2] * shape[3])(latent_inputs)\n",
        "x = Reshape((shape[1], shape[2], shape[3]))(x)"
      ],
      "execution_count": 0,
      "outputs": []
    },
    {
      "cell_type": "code",
      "metadata": {
        "id": "kirkMp8Ehrc9",
        "colab_type": "code",
        "colab": {}
      },
      "source": [
        "for filters in layer_filters[::-1]:\n",
        "    x = Conv2DTranspose(filters=filters,\n",
        "                        kernel_size=kernel_size,\n",
        "                        strides=2,\n",
        "                        activation='relu',\n",
        "                        padding='same')(x)\n",
        "\n",
        "x = Conv2DTranspose(filters=1,\n",
        "                    kernel_size=kernel_size,\n",
        "                    padding='same')(x)\n",
        "\n",
        "outputs = Activation('sigmoid', name='decoder_output')(x)"
      ],
      "execution_count": 0,
      "outputs": []
    },
    {
      "cell_type": "code",
      "metadata": {
        "id": "5yECSf_dhtDY",
        "colab_type": "code",
        "colab": {}
      },
      "source": [
        "# Instantiate Decoder Model\n",
        "decoder = Model(latent_inputs, outputs, name='decoder')"
      ],
      "execution_count": 0,
      "outputs": []
    },
    {
      "cell_type": "markdown",
      "metadata": {
        "id": "MjJGT894CMcr",
        "colab_type": "text"
      },
      "source": [
        "# 2.   **Model Summary**"
      ]
    },
    {
      "cell_type": "code",
      "metadata": {
        "id": "9MEanWTwhuA6",
        "colab_type": "code",
        "outputId": "68053ce3-3b7e-43c4-fae1-680eb3e09d82",
        "colab": {
          "base_uri": "https://localhost:8080/",
          "height": 672
        }
      },
      "source": [
        "# Autoencoder = Encoder + Decoder\n",
        "# Instantiate Autoencoder Model\n",
        "autoencoder = Model(inputs, decoder(encoder(inputs)), name='autoencoder')\n",
        "\n",
        "print(\"[TEXT SUMMARY]\\n\")\n",
        "autoencoder.summary()\n",
        "\n",
        "print(\"\\n\\n[IMAGE SUMMARY]\\n\")\n",
        "plot_model(autoencoder, to_file = 'AE_mnist.png', show_shapes = True)"
      ],
      "execution_count": 17,
      "outputs": [
        {
          "output_type": "stream",
          "text": [
            "[TEXT SUMMARY]\n",
            "\n",
            "Model: \"autoencoder\"\n",
            "_________________________________________________________________\n",
            "Layer (type)                 Output Shape              Param #   \n",
            "=================================================================\n",
            "encoder_input (InputLayer)   (None, 28, 28, 1)         0         \n",
            "_________________________________________________________________\n",
            "encoder (Model)              (None, 16)                69008     \n",
            "_________________________________________________________________\n",
            "decoder (Model)              (None, 28, 28, 1)         108993    \n",
            "=================================================================\n",
            "Total params: 178,001\n",
            "Trainable params: 178,001\n",
            "Non-trainable params: 0\n",
            "_________________________________________________________________\n",
            "\n",
            "\n",
            "[IMAGE SUMMARY]\n",
            "\n"
          ],
          "name": "stdout"
        },
        {
          "output_type": "execute_result",
          "data": {
            "image/png": "[encoded data removed]",
            "text/plain": [
              "<IPython.core.display.Image object>"
            ]
          },
          "metadata": {
            "tags": []
          },
          "execution_count": 17
        }
      ]
    },
    {
      "cell_type": "code",
      "metadata": {
        "id": "Iu9NQBEchu7c",
        "colab_type": "code",
        "outputId": "0fd4876f-9535-48c3-df01-11c27d824377",
        "colab": {
          "base_uri": "https://localhost:8080/",
          "height": 73
        }
      },
      "source": [
        "autoencoder.compile(loss='mse', optimizer='adam')"
      ],
      "execution_count": 18,
      "outputs": [
        {
          "output_type": "stream",
          "text": [
            "WARNING:tensorflow:From /usr/local/lib/python3.6/dist-packages/keras/optimizers.py:793: The name tf.train.Optimizer is deprecated. Please use tf.compat.v1.train.Optimizer instead.\n",
            "\n"
          ],
          "name": "stdout"
        }
      ]
    },
    {
      "cell_type": "markdown",
      "metadata": {
        "id": "_gDwCwqeC661",
        "colab_type": "text"
      },
      "source": [
        "# 3.  **Plots of losses per epoch**\n",
        "\n"
      ]
    },
    {
      "cell_type": "code",
      "metadata": {
        "id": "36grueivhwEX",
        "colab_type": "code",
        "outputId": "22d39e98-dc90-4c06-b6af-9cd21747542c",
        "colab": {
          "base_uri": "https://localhost:8080/",
          "height": 639
        }
      },
      "source": [
        "# Train the autoencoder\n",
        "epochs = 5\n",
        "history = autoencoder.fit(x_train_noisy,\n",
        "                x_train,\n",
        "                validation_data=(x_test_noisy, x_test),\n",
        "                epochs=epochs,\n",
        "                batch_size=batch_size, verbose=0)\n",
        "\n",
        "print(\"Training:\" , epochs , \"Epochs\")\n",
        "autoencoder.history\n",
        "\n",
        "# List all data in history\n",
        "print(history.history.keys())\n",
        "# Summarize history for loss\n",
        "plt.plot(history.history['loss'])\n",
        "plt.plot(history.history['val_loss'])\n",
        "plt.title('Model for Loss')\n",
        "plt.ylabel('Loss')\n",
        "plt.xlabel('Epoch')\n",
        "plt.legend(['train', 'test'], loc='upper left')\n",
        "plt.show()"
      ],
      "execution_count": 19,
      "outputs": [
        {
          "output_type": "stream",
          "text": [
            "WARNING:tensorflow:From /usr/local/lib/python3.6/dist-packages/keras/backend/tensorflow_backend.py:1033: The name tf.assign_add is deprecated. Please use tf.compat.v1.assign_add instead.\n",
            "\n",
            "WARNING:tensorflow:From /usr/local/lib/python3.6/dist-packages/keras/backend/tensorflow_backend.py:1020: The name tf.assign is deprecated. Please use tf.compat.v1.assign instead.\n",
            "\n",
            "WARNING:tensorflow:From /usr/local/lib/python3.6/dist-packages/keras/backend/tensorflow_backend.py:3005: The name tf.Session is deprecated. Please use tf.compat.v1.Session instead.\n",
            "\n",
            "WARNING:tensorflow:From /usr/local/lib/python3.6/dist-packages/keras/backend/tensorflow_backend.py:190: The name tf.get_default_session is deprecated. Please use tf.compat.v1.get_default_session instead.\n",
            "\n",
            "WARNING:tensorflow:From /usr/local/lib/python3.6/dist-packages/keras/backend/tensorflow_backend.py:197: The name tf.ConfigProto is deprecated. Please use tf.compat.v1.ConfigProto instead.\n",
            "\n",
            "WARNING:tensorflow:From /usr/local/lib/python3.6/dist-packages/keras/backend/tensorflow_backend.py:207: The name tf.global_variables is deprecated. Please use tf.compat.v1.global_variables instead.\n",
            "\n",
            "WARNING:tensorflow:From /usr/local/lib/python3.6/dist-packages/keras/backend/tensorflow_backend.py:216: The name tf.is_variable_initialized is deprecated. Please use tf.compat.v1.is_variable_initialized instead.\n",
            "\n",
            "WARNING:tensorflow:From /usr/local/lib/python3.6/dist-packages/keras/backend/tensorflow_backend.py:223: The name tf.variables_initializer is deprecated. Please use tf.compat.v1.variables_initializer instead.\n",
            "\n",
            "Training: 5 Epochs\n",
            "dict_keys(['val_loss', 'loss'])\n"
          ],
          "name": "stdout"
        },
        {
          "output_type": "display_data",
          "data": {
            "image/png": "[encoded data removed]",
            "text/plain": [
              "<Figure size 432x288 with 1 Axes>"
            ]
          },
          "metadata": {
            "tags": []
          }
        }
      ]
    },
    {
      "cell_type": "code",
      "metadata": {
        "id": "KTxD4Uo4hxv0",
        "colab_type": "code",
        "colab": {}
      },
      "source": [
        "# Predict the Autoencoder output from corrupted test images\n",
        "x_decoded = autoencoder.predict(x_test_noisy)"
      ],
      "execution_count": 0,
      "outputs": []
    },
    {
      "cell_type": "code",
      "metadata": {
        "id": "DmqjBU8Bhyiy",
        "colab_type": "code",
        "outputId": "93b497e5-ad42-4665-c40c-f839d72e5477",
        "colab": {
          "base_uri": "https://localhost:8080/",
          "height": 53
        }
      },
      "source": [
        "# Display at least 5 samples for the results\n",
        "rows, cols = 1, 5\n",
        "num = rows * cols\n",
        "imgs = np.concatenate([x_test[:num], x_test_noisy_reshaped[:num], x_decoded[:num]])\n",
        "imgs = imgs.reshape((rows * 3, cols, image_size, image_size))\n",
        "imgs = np.vstack(np.split(imgs, rows, axis=1))\n",
        "imgs = imgs.reshape((rows * 3, -1, image_size, image_size))\n",
        "imgs = np.vstack([np.hstack(i) for i in imgs])\n",
        "imgs = (imgs * 255).astype(np.uint8)\n",
        "plt.figure()"
      ],
      "execution_count": 21,
      "outputs": [
        {
          "output_type": "execute_result",
          "data": {
            "text/plain": [
              "<Figure size 432x288 with 0 Axes>"
            ]
          },
          "metadata": {
            "tags": []
          },
          "execution_count": 21
        },
        {
          "output_type": "display_data",
          "data": {
            "text/plain": [
              "<Figure size 432x288 with 0 Axes>"
            ]
          },
          "metadata": {
            "tags": []
          }
        }
      ]
    },
    {
      "cell_type": "markdown",
      "metadata": {
        "id": "KD2iiZtDDcWe",
        "colab_type": "text"
      },
      "source": [
        "# 4. **Results (5 Samples)**\n",
        "\n"
      ]
    },
    {
      "cell_type": "code",
      "metadata": {
        "id": "yzifMYhXhz6g",
        "colab_type": "code",
        "outputId": "1eba8b14-58d0-4769-ca9b-0462cba37b9d",
        "colab": {
          "base_uri": "https://localhost:8080/",
          "height": 306
        }
      },
      "source": [
        "plt.axis('off')\n",
        "print('\\t [TOP ROW] Original Images\\n\\t [MIDDLE ROW] Corrupted Images\\n\\t [LAST ROW] Restored Images')\n",
        "plt.imshow(imgs, interpolation='none', cmap='gray')\n",
        "# Image.fromarray(imgs).save('corrupted_and_denoised.png')\n",
        "plt.show()"
      ],
      "execution_count": 22,
      "outputs": [
        {
          "output_type": "stream",
          "text": [
            "\t [TOP ROW] Original Images\n",
            "\t [MIDDLE ROW] Corrupted Images\n",
            "\t [LAST ROW] Restored Images\n"
          ],
          "name": "stdout"
        },
        {
          "output_type": "display_data",
          "data": {
            "image/png": "[encoded data removed]",
            "text/plain": [
              "<Figure size 432x288 with 1 Axes>"
            ]
          },
          "metadata": {
            "tags": []
          }
        }
      ]
    }
  ]
}