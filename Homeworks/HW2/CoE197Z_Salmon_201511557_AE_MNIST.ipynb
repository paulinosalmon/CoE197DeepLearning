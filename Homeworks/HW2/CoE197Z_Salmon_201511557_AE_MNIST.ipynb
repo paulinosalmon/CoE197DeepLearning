{
  "nbformat": 4,
  "nbformat_minor": 0,
  "metadata": {
    "colab": {
      "name": "MNIST Autoencoder (Ver. 4)",
      "provenance": [],
      "collapsed_sections": [
        "nm8xLmou9cqZ",
        "5gi5ckzQ-KE3",
        "gSHsanTm9f-3",
        "DfcyqpAx8J4L",
        "rU-SsR928nSl",
        "oUPFr0DwDtzw",
        "MjJGT894CMcr",
        "_gDwCwqeC661",
        "KD2iiZtDDcWe"
      ]
    },
    "kernelspec": {
      "name": "python3",
      "display_name": "Python 3"
    },
    "accelerator": "GPU"
  },
  "cells": [
    {
      "cell_type": "markdown",
      "metadata": {
        "id": "nm8xLmou9cqZ",
        "colab_type": "text"
      },
      "source": [
        "### Imports"
      ]
    },
    {
      "cell_type": "code",
      "metadata": {
        "id": "BbXEbT0bhLfY",
        "colab_type": "code",
        "outputId": "80a5a3e8-d9a6-4acd-8cd0-5e3106f12198",
        "colab": {
          "base_uri": "https://localhost:8080/",
          "height": 0
        }
      },
      "source": [
        "from __future__ import absolute_import\n",
        "from __future__ import division\n",
        "from __future__ import print_function\n",
        "\n",
        "import keras\n",
        "import torch\n",
        "import random\n",
        "import torchvision\n",
        "import numpy as np\n",
        "import matplotlib.pyplot as plt\n",
        "\n",
        "from warnings import warn\n",
        "\n",
        "from PIL import Image\n",
        "\n",
        "from keras import backend as K\n",
        "from keras.models import Model, Sequential\n",
        "from keras.datasets import mnist\n",
        "from keras.layers import Conv2DTranspose\n",
        "from keras.layers import Activation, Input, Reshape\n",
        "from keras.layers import Dense, Dropout, Flatten\n",
        "from keras.layers import Conv2D, MaxPooling2D\n",
        "from keras.utils import to_categorical, plot_model\n",
        "from keras.callbacks import ModelCheckpoint, History\n",
        "\n",
        "from scipy.ndimage import uniform_filter, gaussian_filter\n",
        "from skimage.util.dtype import dtype_range\n",
        "from skimage.util.arraycrop import crop\n",
        "from skimage._shared.utils import warn"
      ],
      "execution_count": 1,
      "outputs": [
        {
          "output_type": "stream",
          "text": [
            "Using TensorFlow backend.\n"
          ],
          "name": "stderr"
        }
      ]
    },
    {
      "cell_type": "markdown",
      "metadata": {
        "id": "5gi5ckzQ-KE3",
        "colab_type": "text"
      },
      "source": [
        "### Structural Similarity"
      ]
    },
    {
      "cell_type": "code",
      "metadata": {
        "id": "yrTQSIxf-MuG",
        "colab_type": "code",
        "colab": {}
      },
      "source": [
        "__all__ = ['structural_similarity']\n",
        "\n",
        "# Extracted from: https://github.com/scikit-image/scikit-image/blob/master/skimage/_shared/utils.py\n",
        "def check_shape_equality(im1, im2):\n",
        "    \"\"\"Raise an error if the shape do not match.\"\"\"\n",
        "    if not im1.shape == im2.shape:\n",
        "        raise ValueError('Input images must have the same dimensions.')\n",
        "    return\n",
        "\n",
        "\n",
        "def structural_similarity(im1, im2,\n",
        "                          *,\n",
        "                          win_size=None, gradient=False, data_range=None,\n",
        "                          multichannel=False, gaussian_weights=False,\n",
        "                          full=False, **kwargs):\n",
        "    check_shape_equality(im1, im2)\n",
        "\n",
        "    if multichannel:\n",
        "        # loop over channels\n",
        "        args = dict(win_size=win_size,\n",
        "                    gradient=gradient,\n",
        "                    data_range=data_range,\n",
        "                    multichannel=False,\n",
        "                    gaussian_weights=gaussian_weights,\n",
        "                    full=full)\n",
        "        args.update(kwargs)\n",
        "        nch = im1.shape[-1]\n",
        "        mssim = np.empty(nch)\n",
        "        if gradient:\n",
        "            G = np.empty(im1.shape)\n",
        "        if full:\n",
        "            S = np.empty(im1.shape)\n",
        "        for ch in range(nch):\n",
        "            ch_result = structural_similarity(im1[..., ch],\n",
        "                                              im2[..., ch], **args)\n",
        "            if gradient and full:\n",
        "                mssim[..., ch], G[..., ch], S[..., ch] = ch_result\n",
        "            elif gradient:\n",
        "                mssim[..., ch], G[..., ch] = ch_result\n",
        "            elif full:\n",
        "                mssim[..., ch], S[..., ch] = ch_result\n",
        "            else:\n",
        "                mssim[..., ch] = ch_result\n",
        "        mssim = mssim.mean()\n",
        "        if gradient and full:\n",
        "            return mssim, G, S\n",
        "        elif gradient:\n",
        "            return mssim, G\n",
        "        elif full:\n",
        "            return mssim, S\n",
        "        else:\n",
        "            return mssim\n",
        "\n",
        "    K1 = kwargs.pop('K1', 0.01)\n",
        "    K2 = kwargs.pop('K2', 0.03)\n",
        "    sigma = kwargs.pop('sigma', 1.5)\n",
        "    if K1 < 0:\n",
        "        raise ValueError(\"K1 must be positive\")\n",
        "    if K2 < 0:\n",
        "        raise ValueError(\"K2 must be positive\")\n",
        "    if sigma < 0:\n",
        "        raise ValueError(\"sigma must be positive\")\n",
        "    use_sample_covariance = kwargs.pop('use_sample_covariance', True)\n",
        "\n",
        "    if gaussian_weights:\n",
        "        # Set to give an 11-tap filter with the default sigma of 1.5 to match\n",
        "        # Wang et. al. 2004.\n",
        "        truncate = 3.5\n",
        "\n",
        "    if win_size is None:\n",
        "        if gaussian_weights:\n",
        "            # set win_size used by crop to match the filter size\n",
        "            r = int(truncate * sigma + 0.5)  # radius as in ndimage\n",
        "            win_size = 2 * r + 1\n",
        "        else:\n",
        "            win_size = 7   # backwards compatibility\n",
        "\n",
        "    if np.any((np.asarray(im1.shape) - win_size) < 0):\n",
        "        raise ValueError(\n",
        "            \"win_size exceeds image extent.  If the input is a multichannel \"\n",
        "            \"(color) image, set multichannel=True.\")\n",
        "\n",
        "    if not (win_size % 2 == 1):\n",
        "        raise ValueError('Window size must be odd.')\n",
        "\n",
        "    if data_range is None:\n",
        "        if im1.dtype != im2.dtype:\n",
        "            warn(\"Inputs have mismatched dtype.  Setting data_range based on \"\n",
        "                 \"im1.dtype.\", stacklevel=2)\n",
        "        dmin, dmax = dtype_range[im1.dtype.type]\n",
        "        data_range = dmax - dmin\n",
        "\n",
        "    ndim = im1.ndim\n",
        "\n",
        "    if gaussian_weights:\n",
        "        filter_func = gaussian_filter\n",
        "        filter_args = {'sigma': sigma, 'truncate': truncate}\n",
        "    else:\n",
        "        filter_func = uniform_filter\n",
        "        filter_args = {'size': win_size}\n",
        "\n",
        "    # ndimage filters need floating point data\n",
        "    im1 = im1.astype(np.float64)\n",
        "    im2 = im2.astype(np.float64)\n",
        "\n",
        "    NP = win_size ** ndim\n",
        "\n",
        "    # filter has already normalized by NP\n",
        "    if use_sample_covariance:\n",
        "        cov_norm = NP / (NP - 1)  # sample covariance\n",
        "    else:\n",
        "        cov_norm = 1.0  # population covariance to match Wang et. al. 2004\n",
        "\n",
        "    # compute (weighted) means\n",
        "    ux = filter_func(im1, **filter_args)\n",
        "    uy = filter_func(im2, **filter_args)\n",
        "\n",
        "    # compute (weighted) variances and covariances\n",
        "    uxx = filter_func(im1 * im1, **filter_args)\n",
        "    uyy = filter_func(im2 * im2, **filter_args)\n",
        "    uxy = filter_func(im1 * im2, **filter_args)\n",
        "    vx = cov_norm * (uxx - ux * ux)\n",
        "    vy = cov_norm * (uyy - uy * uy)\n",
        "    vxy = cov_norm * (uxy - ux * uy)\n",
        "\n",
        "    R = data_range\n",
        "    C1 = (K1 * R) ** 2\n",
        "    C2 = (K2 * R) ** 2\n",
        "\n",
        "    A1, A2, B1, B2 = ((2 * ux * uy + C1,\n",
        "                       2 * vxy + C2,\n",
        "                       ux ** 2 + uy ** 2 + C1,\n",
        "                       vx + vy + C2))\n",
        "    D = B1 * B2\n",
        "    S = (A1 * A2) / D\n",
        "\n",
        "    # to avoid edge effects will ignore filter radius strip around edges\n",
        "    pad = (win_size - 1) // 2\n",
        "\n",
        "    # compute (weighted) mean of ssim\n",
        "    mssim = crop(S, pad).mean()\n",
        "\n",
        "    if gradient:\n",
        "        # The following is Eqs. 7-8 of Avanaki 2009.\n",
        "        grad = filter_func(A1 / D, **filter_args) * im1\n",
        "        grad += filter_func(-S / B2, **filter_args) * im2\n",
        "        grad += filter_func((ux * (A2 - A1) - uy * (B2 - B1) * S) / D,\n",
        "                            **filter_args)\n",
        "        grad *= (2 / im1.size)\n",
        "\n",
        "        if full:\n",
        "            return mssim, grad, S\n",
        "        else:\n",
        "            return mssim, grad\n",
        "    else:\n",
        "        if full:\n",
        "            return mssim, S\n",
        "        else:\n",
        "            return mssim"
      ],
      "execution_count": 0,
      "outputs": []
    },
    {
      "cell_type": "markdown",
      "metadata": {
        "id": "gSHsanTm9f-3",
        "colab_type": "text"
      },
      "source": [
        "### Load Dataset"
      ]
    },
    {
      "cell_type": "code",
      "metadata": {
        "id": "fr4aVQPK_Rv5",
        "colab_type": "code",
        "outputId": "13e74a75-f353-4ea1-a427-5884912e7015",
        "colab": {
          "base_uri": "https://localhost:8080/",
          "height": 0
        }
      },
      "source": [
        "# MNIST dataset\n",
        "(x_train, y_train), (x_test, y_test) = mnist.load_data()"
      ],
      "execution_count": 3,
      "outputs": [
        {
          "output_type": "stream",
          "text": [
            "Downloading data from https://s3.amazonaws.com/img-datasets/mnist.npz\n",
            "11493376/11490434 [==============================] - 2s 0us/step\n"
          ],
          "name": "stdout"
        }
      ]
    },
    {
      "cell_type": "markdown",
      "metadata": {
        "id": "XaE7dQiM9xoS",
        "colab_type": "text"
      },
      "source": [
        "### Keras Classifier"
      ]
    },
    {
      "cell_type": "code",
      "metadata": {
        "id": "VjwHEF1z9xDe",
        "colab_type": "code",
        "outputId": "775599fa-6499-4334-aa4b-bf1096a086d3",
        "colab": {
          "base_uri": "https://localhost:8080/",
          "height": 1000
        }
      },
      "source": [
        "# input image dimensions\n",
        "img_rows, img_cols = 28, 28\n",
        "num_classes = 10\n",
        "input_shape = (1, img_rows, img_cols) if K.image_data_format() == 'channels_first' else (img_rows, img_cols, 1)\n",
        "\n",
        "classifier = Sequential([\n",
        "    Conv2D(32, 5, activation='relu', input_shape=input_shape),\n",
        "    MaxPooling2D(),\n",
        "    Conv2D(64, 5, activation='relu'),\n",
        "    MaxPooling2D(),\n",
        "    Flatten(),\n",
        "    Dropout(0.5),\n",
        "    Dense(600, activation='relu'),\n",
        "    Dropout(0.5),\n",
        "    Dense(num_classes, activation='softmax'),\n",
        "])\n",
        "\n",
        "def main():\n",
        "    batch_size = 64\n",
        "    epochs = 100\n",
        "\n",
        "    # the data, split between train and test sets\n",
        "    (x_train, y_train), (x_test, y_test) = mnist.load_data()\n",
        "\n",
        "    if K.image_data_format() == 'channels_first':\n",
        "        x_train = x_train.reshape(x_train.shape[0], 1, img_rows, img_cols)\n",
        "        x_test = x_test.reshape(x_test.shape[0], 1, img_rows, img_cols)\n",
        "    else:\n",
        "        x_train = x_train.reshape(x_train.shape[0], img_rows, img_cols, 1)\n",
        "        x_test = x_test.reshape(x_test.shape[0], img_rows, img_cols, 1)\n",
        "\n",
        "    # Scale to [0, 1]\n",
        "    x_train = x_train.astype('float32')\n",
        "    x_test = x_test.astype('float32')\n",
        "    x_train /= 255\n",
        "    x_test /= 255\n",
        "\n",
        "    # Normalize\n",
        "    mean = 0.1307\n",
        "    std = 0.3081\n",
        "    x_train = (x_train - mean) / std\n",
        "    x_test = (x_test - mean) / std\n",
        "\n",
        "    print('x_train shape:', x_train.shape)\n",
        "    print(x_train.shape[0], 'train samples')\n",
        "    print(x_test.shape[0], 'test samples')\n",
        "\n",
        "    # convert class vectors to binary class matrices\n",
        "    y_train = keras.utils.to_categorical(y_train, num_classes)\n",
        "    y_test = keras.utils.to_categorical(y_test, num_classes)\n",
        "\n",
        "    classifier.summary()\n",
        "\n",
        "    checkpoint = ModelCheckpoint('mnist_cnn.h5',\n",
        "                                 verbose=1, save_best_only=True, save_weights_only=True)\n",
        "\n",
        "    classifier.compile(loss=keras.losses.categorical_crossentropy,\n",
        "                  optimizer=keras.optimizers.SGD(lr=0.01, momentum=0.5),\n",
        "                  metrics=['accuracy'])\n",
        "\n",
        "    classifier.fit(x_train, y_train,\n",
        "              batch_size=batch_size,\n",
        "              epochs=epochs,\n",
        "              verbose=1,\n",
        "              callbacks=[checkpoint],\n",
        "              validation_data=(x_test, y_test))\n",
        "    score = classifier.evaluate(x_test, y_test, verbose=0)\n",
        "    print('Test loss:', score[0])\n",
        "    print('Test accuracy:', score[1])\n",
        "\n",
        "\n",
        "if __name__ == '__main__':\n",
        "    main()"
      ],
      "execution_count": 4,
      "outputs": [
        {
          "output_type": "stream",
          "text": [
            "WARNING:tensorflow:From /usr/local/lib/python3.6/dist-packages/keras/backend/tensorflow_backend.py:66: The name tf.get_default_graph is deprecated. Please use tf.compat.v1.get_default_graph instead.\n",
            "\n",
            "WARNING:tensorflow:From /usr/local/lib/python3.6/dist-packages/keras/backend/tensorflow_backend.py:541: The name tf.placeholder is deprecated. Please use tf.compat.v1.placeholder instead.\n",
            "\n",
            "WARNING:tensorflow:From /usr/local/lib/python3.6/dist-packages/keras/backend/tensorflow_backend.py:4432: The name tf.random_uniform is deprecated. Please use tf.random.uniform instead.\n",
            "\n",
            "WARNING:tensorflow:From /usr/local/lib/python3.6/dist-packages/keras/backend/tensorflow_backend.py:4267: The name tf.nn.max_pool is deprecated. Please use tf.nn.max_pool2d instead.\n",
            "\n",
            "WARNING:tensorflow:From /usr/local/lib/python3.6/dist-packages/keras/backend/tensorflow_backend.py:148: The name tf.placeholder_with_default is deprecated. Please use tf.compat.v1.placeholder_with_default instead.\n",
            "\n",
            "WARNING:tensorflow:From /usr/local/lib/python3.6/dist-packages/keras/backend/tensorflow_backend.py:3733: calling dropout (from tensorflow.python.ops.nn_ops) with keep_prob is deprecated and will be removed in a future version.\n",
            "Instructions for updating:\n",
            "Please use `rate` instead of `keep_prob`. Rate should be set to `rate = 1 - keep_prob`.\n",
            "x_train shape: (60000, 28, 28, 1)\n",
            "60000 train samples\n",
            "10000 test samples\n",
            "Model: \"sequential_1\"\n",
            "_________________________________________________________________\n",
            "Layer (type)                 Output Shape              Param #   \n",
            "=================================================================\n",
            "conv2d_1 (Conv2D)            (None, 24, 24, 32)        832       \n",
            "_________________________________________________________________\n",
            "max_pooling2d_1 (MaxPooling2 (None, 12, 12, 32)        0         \n",
            "_________________________________________________________________\n",
            "conv2d_2 (Conv2D)            (None, 8, 8, 64)          51264     \n",
            "_________________________________________________________________\n",
            "max_pooling2d_2 (MaxPooling2 (None, 4, 4, 64)          0         \n",
            "_________________________________________________________________\n",
            "flatten_1 (Flatten)          (None, 1024)              0         \n",
            "_________________________________________________________________\n",
            "dropout_1 (Dropout)          (None, 1024)              0         \n",
            "_________________________________________________________________\n",
            "dense_1 (Dense)              (None, 600)               615000    \n",
            "_________________________________________________________________\n",
            "dropout_2 (Dropout)          (None, 600)               0         \n",
            "_________________________________________________________________\n",
            "dense_2 (Dense)              (None, 10)                6010      \n",
            "=================================================================\n",
            "Total params: 673,106\n",
            "Trainable params: 673,106\n",
            "Non-trainable params: 0\n",
            "_________________________________________________________________\n",
            "WARNING:tensorflow:From /usr/local/lib/python3.6/dist-packages/keras/optimizers.py:793: The name tf.train.Optimizer is deprecated. Please use tf.compat.v1.train.Optimizer instead.\n",
            "\n",
            "WARNING:tensorflow:From /usr/local/lib/python3.6/dist-packages/keras/backend/tensorflow_backend.py:3576: The name tf.log is deprecated. Please use tf.math.log instead.\n",
            "\n",
            "WARNING:tensorflow:From /usr/local/lib/python3.6/dist-packages/tensorflow_core/python/ops/math_grad.py:1424: where (from tensorflow.python.ops.array_ops) is deprecated and will be removed in a future version.\n",
            "Instructions for updating:\n",
            "Use tf.where in 2.0, which has the same broadcast rule as np.where\n",
            "WARNING:tensorflow:From /usr/local/lib/python3.6/dist-packages/keras/backend/tensorflow_backend.py:1033: The name tf.assign_add is deprecated. Please use tf.compat.v1.assign_add instead.\n",
            "\n",
            "WARNING:tensorflow:From /usr/local/lib/python3.6/dist-packages/keras/backend/tensorflow_backend.py:1020: The name tf.assign is deprecated. Please use tf.compat.v1.assign instead.\n",
            "\n",
            "WARNING:tensorflow:From /usr/local/lib/python3.6/dist-packages/keras/backend/tensorflow_backend.py:3005: The name tf.Session is deprecated. Please use tf.compat.v1.Session instead.\n",
            "\n",
            "Train on 60000 samples, validate on 10000 samples\n",
            "Epoch 1/100\n",
            "WARNING:tensorflow:From /usr/local/lib/python3.6/dist-packages/keras/backend/tensorflow_backend.py:190: The name tf.get_default_session is deprecated. Please use tf.compat.v1.get_default_session instead.\n",
            "\n",
            "WARNING:tensorflow:From /usr/local/lib/python3.6/dist-packages/keras/backend/tensorflow_backend.py:197: The name tf.ConfigProto is deprecated. Please use tf.compat.v1.ConfigProto instead.\n",
            "\n",
            "WARNING:tensorflow:From /usr/local/lib/python3.6/dist-packages/keras/backend/tensorflow_backend.py:207: The name tf.global_variables is deprecated. Please use tf.compat.v1.global_variables instead.\n",
            "\n",
            "WARNING:tensorflow:From /usr/local/lib/python3.6/dist-packages/keras/backend/tensorflow_backend.py:216: The name tf.is_variable_initialized is deprecated. Please use tf.compat.v1.is_variable_initialized instead.\n",
            "\n",
            "WARNING:tensorflow:From /usr/local/lib/python3.6/dist-packages/keras/backend/tensorflow_backend.py:223: The name tf.variables_initializer is deprecated. Please use tf.compat.v1.variables_initializer instead.\n",
            "\n",
            "60000/60000 [==============================] - 20s 341us/step - loss: 0.4854 - acc: 0.8417 - val_loss: 0.0924 - val_acc: 0.9713\n",
            "\n",
            "Epoch 00001: val_loss improved from inf to 0.09238, saving model to mnist_cnn.h5\n",
            "Epoch 2/100\n",
            "60000/60000 [==============================] - 8s 141us/step - loss: 0.1690 - acc: 0.9477 - val_loss: 0.0605 - val_acc: 0.9808\n",
            "\n",
            "Epoch 00002: val_loss improved from 0.09238 to 0.06047, saving model to mnist_cnn.h5\n",
            "Epoch 3/100\n",
            "60000/60000 [==============================] - 8s 141us/step - loss: 0.1211 - acc: 0.9617 - val_loss: 0.0455 - val_acc: 0.9848\n",
            "\n",
            "Epoch 00003: val_loss improved from 0.06047 to 0.04546, saving model to mnist_cnn.h5\n",
            "Epoch 4/100\n",
            "60000/60000 [==============================] - 8s 138us/step - loss: 0.1050 - acc: 0.9676 - val_loss: 0.0392 - val_acc: 0.9874\n",
            "\n",
            "Epoch 00004: val_loss improved from 0.04546 to 0.03918, saving model to mnist_cnn.h5\n",
            "Epoch 5/100\n",
            "60000/60000 [==============================] - 8s 138us/step - loss: 0.0867 - acc: 0.9734 - val_loss: 0.0328 - val_acc: 0.9895\n",
            "\n",
            "Epoch 00005: val_loss improved from 0.03918 to 0.03281, saving model to mnist_cnn.h5\n",
            "Epoch 6/100\n",
            "60000/60000 [==============================] - 8s 139us/step - loss: 0.0796 - acc: 0.9751 - val_loss: 0.0305 - val_acc: 0.9896\n",
            "\n",
            "Epoch 00006: val_loss improved from 0.03281 to 0.03054, saving model to mnist_cnn.h5\n",
            "Epoch 7/100\n",
            "60000/60000 [==============================] - 8s 138us/step - loss: 0.0715 - acc: 0.9782 - val_loss: 0.0274 - val_acc: 0.9917\n",
            "\n",
            "Epoch 00007: val_loss improved from 0.03054 to 0.02738, saving model to mnist_cnn.h5\n",
            "Epoch 8/100\n",
            "60000/60000 [==============================] - 8s 138us/step - loss: 0.0678 - acc: 0.9788 - val_loss: 0.0261 - val_acc: 0.9911\n",
            "\n",
            "Epoch 00008: val_loss improved from 0.02738 to 0.02611, saving model to mnist_cnn.h5\n",
            "Epoch 9/100\n",
            "60000/60000 [==============================] - 8s 137us/step - loss: 0.0626 - acc: 0.9804 - val_loss: 0.0240 - val_acc: 0.9922\n",
            "\n",
            "Epoch 00009: val_loss improved from 0.02611 to 0.02400, saving model to mnist_cnn.h5\n",
            "Epoch 10/100\n",
            "60000/60000 [==============================] - 8s 139us/step - loss: 0.0588 - acc: 0.9816 - val_loss: 0.0223 - val_acc: 0.9922\n",
            "\n",
            "Epoch 00010: val_loss improved from 0.02400 to 0.02226, saving model to mnist_cnn.h5\n",
            "Epoch 11/100\n",
            "60000/60000 [==============================] - 8s 139us/step - loss: 0.0553 - acc: 0.9828 - val_loss: 0.0207 - val_acc: 0.9922\n",
            "\n",
            "Epoch 00011: val_loss improved from 0.02226 to 0.02070, saving model to mnist_cnn.h5\n",
            "Epoch 12/100\n",
            "60000/60000 [==============================] - 8s 139us/step - loss: 0.0516 - acc: 0.9839 - val_loss: 0.0226 - val_acc: 0.9923\n",
            "\n",
            "Epoch 00012: val_loss did not improve from 0.02070\n",
            "Epoch 13/100\n",
            "60000/60000 [==============================] - 8s 138us/step - loss: 0.0505 - acc: 0.9842 - val_loss: 0.0198 - val_acc: 0.9930\n",
            "\n",
            "Epoch 00013: val_loss improved from 0.02070 to 0.01980, saving model to mnist_cnn.h5\n",
            "Epoch 14/100\n",
            "60000/60000 [==============================] - 8s 137us/step - loss: 0.0475 - acc: 0.9855 - val_loss: 0.0202 - val_acc: 0.9929\n",
            "\n",
            "Epoch 00014: val_loss did not improve from 0.01980\n",
            "Epoch 15/100\n",
            "60000/60000 [==============================] - 8s 136us/step - loss: 0.0458 - acc: 0.9854 - val_loss: 0.0179 - val_acc: 0.9937\n",
            "\n",
            "Epoch 00015: val_loss improved from 0.01980 to 0.01786, saving model to mnist_cnn.h5\n",
            "Epoch 16/100\n",
            "60000/60000 [==============================] - 8s 138us/step - loss: 0.0456 - acc: 0.9862 - val_loss: 0.0189 - val_acc: 0.9933\n",
            "\n",
            "Epoch 00016: val_loss did not improve from 0.01786\n",
            "Epoch 17/100\n",
            "60000/60000 [==============================] - 8s 137us/step - loss: 0.0446 - acc: 0.9859 - val_loss: 0.0179 - val_acc: 0.9935\n",
            "\n",
            "Epoch 00017: val_loss improved from 0.01786 to 0.01785, saving model to mnist_cnn.h5\n",
            "Epoch 18/100\n",
            "60000/60000 [==============================] - 8s 139us/step - loss: 0.0416 - acc: 0.9873 - val_loss: 0.0186 - val_acc: 0.9932\n",
            "\n",
            "Epoch 00018: val_loss did not improve from 0.01785\n",
            "Epoch 19/100\n",
            "60000/60000 [==============================] - 8s 141us/step - loss: 0.0405 - acc: 0.9875 - val_loss: 0.0176 - val_acc: 0.9929\n",
            "\n",
            "Epoch 00019: val_loss improved from 0.01785 to 0.01763, saving model to mnist_cnn.h5\n",
            "Epoch 20/100\n",
            "60000/60000 [==============================] - 9s 142us/step - loss: 0.0394 - acc: 0.9876 - val_loss: 0.0173 - val_acc: 0.9934\n",
            "\n",
            "Epoch 00020: val_loss improved from 0.01763 to 0.01732, saving model to mnist_cnn.h5\n",
            "Epoch 21/100\n",
            "60000/60000 [==============================] - 8s 137us/step - loss: 0.0384 - acc: 0.9880 - val_loss: 0.0188 - val_acc: 0.9934\n",
            "\n",
            "Epoch 00021: val_loss did not improve from 0.01732\n",
            "Epoch 22/100\n",
            "60000/60000 [==============================] - 8s 136us/step - loss: 0.0369 - acc: 0.9885 - val_loss: 0.0175 - val_acc: 0.9939\n",
            "\n",
            "Epoch 00022: val_loss did not improve from 0.01732\n",
            "Epoch 23/100\n",
            "60000/60000 [==============================] - 8s 137us/step - loss: 0.0361 - acc: 0.9888 - val_loss: 0.0160 - val_acc: 0.9948\n",
            "\n",
            "Epoch 00023: val_loss improved from 0.01732 to 0.01600, saving model to mnist_cnn.h5\n",
            "Epoch 24/100\n",
            "60000/60000 [==============================] - 8s 137us/step - loss: 0.0360 - acc: 0.9887 - val_loss: 0.0162 - val_acc: 0.9945\n",
            "\n",
            "Epoch 00024: val_loss did not improve from 0.01600\n",
            "Epoch 25/100\n",
            "60000/60000 [==============================] - 8s 137us/step - loss: 0.0332 - acc: 0.9894 - val_loss: 0.0173 - val_acc: 0.9948\n",
            "\n",
            "Epoch 00025: val_loss did not improve from 0.01600\n",
            "Epoch 26/100\n",
            "60000/60000 [==============================] - 8s 138us/step - loss: 0.0345 - acc: 0.9889 - val_loss: 0.0161 - val_acc: 0.9942\n",
            "\n",
            "Epoch 00026: val_loss did not improve from 0.01600\n",
            "Epoch 27/100\n",
            "60000/60000 [==============================] - 8s 137us/step - loss: 0.0312 - acc: 0.9899 - val_loss: 0.0164 - val_acc: 0.9942\n",
            "\n",
            "Epoch 00027: val_loss did not improve from 0.01600\n",
            "Epoch 28/100\n",
            "60000/60000 [==============================] - 8s 138us/step - loss: 0.0311 - acc: 0.9902 - val_loss: 0.0149 - val_acc: 0.9948\n",
            "\n",
            "Epoch 00028: val_loss improved from 0.01600 to 0.01487, saving model to mnist_cnn.h5\n",
            "Epoch 29/100\n",
            "60000/60000 [==============================] - 8s 137us/step - loss: 0.0326 - acc: 0.9895 - val_loss: 0.0176 - val_acc: 0.9939\n",
            "\n",
            "Epoch 00029: val_loss did not improve from 0.01487\n",
            "Epoch 30/100\n",
            "60000/60000 [==============================] - 8s 136us/step - loss: 0.0305 - acc: 0.9900 - val_loss: 0.0153 - val_acc: 0.9947\n",
            "\n",
            "Epoch 00030: val_loss did not improve from 0.01487\n",
            "Epoch 31/100\n",
            "60000/60000 [==============================] - 8s 138us/step - loss: 0.0293 - acc: 0.9901 - val_loss: 0.0168 - val_acc: 0.9940\n",
            "\n",
            "Epoch 00031: val_loss did not improve from 0.01487\n",
            "Epoch 32/100\n",
            "60000/60000 [==============================] - 8s 135us/step - loss: 0.0285 - acc: 0.9907 - val_loss: 0.0154 - val_acc: 0.9952\n",
            "\n",
            "Epoch 00032: val_loss did not improve from 0.01487\n",
            "Epoch 33/100\n",
            "60000/60000 [==============================] - 8s 136us/step - loss: 0.0292 - acc: 0.9907 - val_loss: 0.0144 - val_acc: 0.9950\n",
            "\n",
            "Epoch 00033: val_loss improved from 0.01487 to 0.01444, saving model to mnist_cnn.h5\n",
            "Epoch 34/100\n",
            "60000/60000 [==============================] - 8s 138us/step - loss: 0.0266 - acc: 0.9915 - val_loss: 0.0153 - val_acc: 0.9946\n",
            "\n",
            "Epoch 00034: val_loss did not improve from 0.01444\n",
            "Epoch 35/100\n",
            "60000/60000 [==============================] - 8s 138us/step - loss: 0.0286 - acc: 0.9907 - val_loss: 0.0147 - val_acc: 0.9944\n",
            "\n",
            "Epoch 00035: val_loss did not improve from 0.01444\n",
            "Epoch 36/100\n",
            "60000/60000 [==============================] - 8s 135us/step - loss: 0.0257 - acc: 0.9914 - val_loss: 0.0160 - val_acc: 0.9946\n",
            "\n",
            "Epoch 00036: val_loss did not improve from 0.01444\n",
            "Epoch 37/100\n",
            "60000/60000 [==============================] - 8s 135us/step - loss: 0.0266 - acc: 0.9911 - val_loss: 0.0148 - val_acc: 0.9951\n",
            "\n",
            "Epoch 00037: val_loss did not improve from 0.01444\n",
            "Epoch 38/100\n",
            "60000/60000 [==============================] - 8s 135us/step - loss: 0.0255 - acc: 0.9919 - val_loss: 0.0162 - val_acc: 0.9947\n",
            "\n",
            "Epoch 00038: val_loss did not improve from 0.01444\n",
            "Epoch 39/100\n",
            "60000/60000 [==============================] - 8s 135us/step - loss: 0.0254 - acc: 0.9920 - val_loss: 0.0143 - val_acc: 0.9951\n",
            "\n",
            "Epoch 00039: val_loss improved from 0.01444 to 0.01425, saving model to mnist_cnn.h5\n",
            "Epoch 40/100\n",
            "60000/60000 [==============================] - 8s 135us/step - loss: 0.0260 - acc: 0.9915 - val_loss: 0.0143 - val_acc: 0.9956\n",
            "\n",
            "Epoch 00040: val_loss did not improve from 0.01425\n",
            "Epoch 41/100\n",
            "60000/60000 [==============================] - 8s 137us/step - loss: 0.0257 - acc: 0.9916 - val_loss: 0.0145 - val_acc: 0.9958\n",
            "\n",
            "Epoch 00041: val_loss did not improve from 0.01425\n",
            "Epoch 42/100\n",
            "60000/60000 [==============================] - 8s 137us/step - loss: 0.0249 - acc: 0.9919 - val_loss: 0.0145 - val_acc: 0.9950\n",
            "\n",
            "Epoch 00042: val_loss did not improve from 0.01425\n",
            "Epoch 43/100\n",
            "60000/60000 [==============================] - 8s 135us/step - loss: 0.0243 - acc: 0.9920 - val_loss: 0.0148 - val_acc: 0.9944\n",
            "\n",
            "Epoch 00043: val_loss did not improve from 0.01425\n",
            "Epoch 44/100\n",
            "60000/60000 [==============================] - 8s 135us/step - loss: 0.0232 - acc: 0.9927 - val_loss: 0.0137 - val_acc: 0.9951\n",
            "\n",
            "Epoch 00044: val_loss improved from 0.01425 to 0.01371, saving model to mnist_cnn.h5\n",
            "Epoch 45/100\n",
            "60000/60000 [==============================] - 8s 136us/step - loss: 0.0232 - acc: 0.9923 - val_loss: 0.0153 - val_acc: 0.9945\n",
            "\n",
            "Epoch 00045: val_loss did not improve from 0.01371\n",
            "Epoch 46/100\n",
            "60000/60000 [==============================] - 8s 137us/step - loss: 0.0234 - acc: 0.9922 - val_loss: 0.0153 - val_acc: 0.9945\n",
            "\n",
            "Epoch 00046: val_loss did not improve from 0.01371\n",
            "Epoch 47/100\n",
            "60000/60000 [==============================] - 8s 136us/step - loss: 0.0217 - acc: 0.9929 - val_loss: 0.0146 - val_acc: 0.9949\n",
            "\n",
            "Epoch 00047: val_loss did not improve from 0.01371\n",
            "Epoch 48/100\n",
            "60000/60000 [==============================] - 8s 136us/step - loss: 0.0230 - acc: 0.9926 - val_loss: 0.0131 - val_acc: 0.9960\n",
            "\n",
            "Epoch 00048: val_loss improved from 0.01371 to 0.01307, saving model to mnist_cnn.h5\n",
            "Epoch 49/100\n",
            "60000/60000 [==============================] - 8s 136us/step - loss: 0.0207 - acc: 0.9929 - val_loss: 0.0138 - val_acc: 0.9952\n",
            "\n",
            "Epoch 00049: val_loss did not improve from 0.01307\n",
            "Epoch 50/100\n",
            "60000/60000 [==============================] - 8s 136us/step - loss: 0.0203 - acc: 0.9931 - val_loss: 0.0145 - val_acc: 0.9947\n",
            "\n",
            "Epoch 00050: val_loss did not improve from 0.01307\n",
            "Epoch 51/100\n",
            "60000/60000 [==============================] - 8s 137us/step - loss: 0.0213 - acc: 0.9932 - val_loss: 0.0155 - val_acc: 0.9948\n",
            "\n",
            "Epoch 00051: val_loss did not improve from 0.01307\n",
            "Epoch 52/100\n",
            "60000/60000 [==============================] - 8s 136us/step - loss: 0.0207 - acc: 0.9934 - val_loss: 0.0142 - val_acc: 0.9954\n",
            "\n",
            "Epoch 00052: val_loss did not improve from 0.01307\n",
            "Epoch 53/100\n",
            "60000/60000 [==============================] - 8s 137us/step - loss: 0.0210 - acc: 0.9933 - val_loss: 0.0148 - val_acc: 0.9951\n",
            "\n",
            "Epoch 00053: val_loss did not improve from 0.01307\n",
            "Epoch 54/100\n",
            "60000/60000 [==============================] - 8s 135us/step - loss: 0.0203 - acc: 0.9935 - val_loss: 0.0146 - val_acc: 0.9952\n",
            "\n",
            "Epoch 00054: val_loss did not improve from 0.01307\n",
            "Epoch 55/100\n",
            "60000/60000 [==============================] - 8s 136us/step - loss: 0.0203 - acc: 0.9936 - val_loss: 0.0152 - val_acc: 0.9951\n",
            "\n",
            "Epoch 00055: val_loss did not improve from 0.01307\n",
            "Epoch 56/100\n",
            "60000/60000 [==============================] - 8s 137us/step - loss: 0.0203 - acc: 0.9934 - val_loss: 0.0140 - val_acc: 0.9955\n",
            "\n",
            "Epoch 00056: val_loss did not improve from 0.01307\n",
            "Epoch 57/100\n",
            "60000/60000 [==============================] - 8s 140us/step - loss: 0.0189 - acc: 0.9939 - val_loss: 0.0141 - val_acc: 0.9954\n",
            "\n",
            "Epoch 00057: val_loss did not improve from 0.01307\n",
            "Epoch 58/100\n",
            "60000/60000 [==============================] - 8s 141us/step - loss: 0.0200 - acc: 0.9936 - val_loss: 0.0148 - val_acc: 0.9954\n",
            "\n",
            "Epoch 00058: val_loss did not improve from 0.01307\n",
            "Epoch 59/100\n",
            "60000/60000 [==============================] - 8s 136us/step - loss: 0.0190 - acc: 0.9938 - val_loss: 0.0136 - val_acc: 0.9955\n",
            "\n",
            "Epoch 00059: val_loss did not improve from 0.01307\n",
            "Epoch 60/100\n",
            "60000/60000 [==============================] - 8s 138us/step - loss: 0.0187 - acc: 0.9936 - val_loss: 0.0147 - val_acc: 0.9954\n",
            "\n",
            "Epoch 00060: val_loss did not improve from 0.01307\n",
            "Epoch 61/100\n",
            "60000/60000 [==============================] - 8s 136us/step - loss: 0.0182 - acc: 0.9943 - val_loss: 0.0150 - val_acc: 0.9953\n",
            "\n",
            "Epoch 00061: val_loss did not improve from 0.01307\n",
            "Epoch 62/100\n",
            "60000/60000 [==============================] - 8s 136us/step - loss: 0.0184 - acc: 0.9940 - val_loss: 0.0146 - val_acc: 0.9949\n",
            "\n",
            "Epoch 00062: val_loss did not improve from 0.01307\n",
            "Epoch 63/100\n",
            "60000/60000 [==============================] - 8s 138us/step - loss: 0.0177 - acc: 0.9940 - val_loss: 0.0151 - val_acc: 0.9954\n",
            "\n",
            "Epoch 00063: val_loss did not improve from 0.01307\n",
            "Epoch 64/100\n",
            "60000/60000 [==============================] - 8s 138us/step - loss: 0.0184 - acc: 0.9942 - val_loss: 0.0146 - val_acc: 0.9953\n",
            "\n",
            "Epoch 00064: val_loss did not improve from 0.01307\n",
            "Epoch 65/100\n",
            "60000/60000 [==============================] - 8s 137us/step - loss: 0.0196 - acc: 0.9937 - val_loss: 0.0142 - val_acc: 0.9955\n",
            "\n",
            "Epoch 00065: val_loss did not improve from 0.01307\n",
            "Epoch 66/100\n",
            "60000/60000 [==============================] - 8s 137us/step - loss: 0.0181 - acc: 0.9942 - val_loss: 0.0143 - val_acc: 0.9952\n",
            "\n",
            "Epoch 00066: val_loss did not improve from 0.01307\n",
            "Epoch 67/100\n",
            "60000/60000 [==============================] - 8s 138us/step - loss: 0.0166 - acc: 0.9945 - val_loss: 0.0144 - val_acc: 0.9956\n",
            "\n",
            "Epoch 00067: val_loss did not improve from 0.01307\n",
            "Epoch 68/100\n",
            "60000/60000 [==============================] - 8s 138us/step - loss: 0.0184 - acc: 0.9943 - val_loss: 0.0143 - val_acc: 0.9954\n",
            "\n",
            "Epoch 00068: val_loss did not improve from 0.01307\n",
            "Epoch 69/100\n",
            "60000/60000 [==============================] - 8s 137us/step - loss: 0.0163 - acc: 0.9943 - val_loss: 0.0143 - val_acc: 0.9950\n",
            "\n",
            "Epoch 00069: val_loss did not improve from 0.01307\n",
            "Epoch 70/100\n",
            "60000/60000 [==============================] - 8s 137us/step - loss: 0.0170 - acc: 0.9939 - val_loss: 0.0148 - val_acc: 0.9950\n",
            "\n",
            "Epoch 00070: val_loss did not improve from 0.01307\n",
            "Epoch 71/100\n",
            "60000/60000 [==============================] - 8s 138us/step - loss: 0.0166 - acc: 0.9946 - val_loss: 0.0147 - val_acc: 0.9955\n",
            "\n",
            "Epoch 00071: val_loss did not improve from 0.01307\n",
            "Epoch 72/100\n",
            "60000/60000 [==============================] - 8s 141us/step - loss: 0.0157 - acc: 0.9951 - val_loss: 0.0136 - val_acc: 0.9956\n",
            "\n",
            "Epoch 00072: val_loss did not improve from 0.01307\n",
            "Epoch 73/100\n",
            "60000/60000 [==============================] - 8s 137us/step - loss: 0.0154 - acc: 0.9947 - val_loss: 0.0136 - val_acc: 0.9954\n",
            "\n",
            "Epoch 00073: val_loss did not improve from 0.01307\n",
            "Epoch 74/100\n",
            "60000/60000 [==============================] - 8s 137us/step - loss: 0.0160 - acc: 0.9948 - val_loss: 0.0145 - val_acc: 0.9958\n",
            "\n",
            "Epoch 00074: val_loss did not improve from 0.01307\n",
            "Epoch 75/100\n",
            "60000/60000 [==============================] - 8s 137us/step - loss: 0.0168 - acc: 0.9945 - val_loss: 0.0151 - val_acc: 0.9947\n",
            "\n",
            "Epoch 00075: val_loss did not improve from 0.01307\n",
            "Epoch 76/100\n",
            "60000/60000 [==============================] - 8s 138us/step - loss: 0.0150 - acc: 0.9953 - val_loss: 0.0146 - val_acc: 0.9951\n",
            "\n",
            "Epoch 00076: val_loss did not improve from 0.01307\n",
            "Epoch 77/100\n",
            "60000/60000 [==============================] - 8s 138us/step - loss: 0.0156 - acc: 0.9952 - val_loss: 0.0143 - val_acc: 0.9947\n",
            "\n",
            "Epoch 00077: val_loss did not improve from 0.01307\n",
            "Epoch 78/100\n",
            "60000/60000 [==============================] - 8s 138us/step - loss: 0.0152 - acc: 0.9950 - val_loss: 0.0144 - val_acc: 0.9952\n",
            "\n",
            "Epoch 00078: val_loss did not improve from 0.01307\n",
            "Epoch 79/100\n",
            "60000/60000 [==============================] - 8s 138us/step - loss: 0.0145 - acc: 0.9952 - val_loss: 0.0143 - val_acc: 0.9956\n",
            "\n",
            "Epoch 00079: val_loss did not improve from 0.01307\n",
            "Epoch 80/100\n",
            "60000/60000 [==============================] - 8s 137us/step - loss: 0.0149 - acc: 0.9952 - val_loss: 0.0152 - val_acc: 0.9954\n",
            "\n",
            "Epoch 00080: val_loss did not improve from 0.01307\n",
            "Epoch 81/100\n",
            "60000/60000 [==============================] - 8s 138us/step - loss: 0.0154 - acc: 0.9949 - val_loss: 0.0146 - val_acc: 0.9949\n",
            "\n",
            "Epoch 00081: val_loss did not improve from 0.01307\n",
            "Epoch 82/100\n",
            "60000/60000 [==============================] - 8s 138us/step - loss: 0.0143 - acc: 0.9951 - val_loss: 0.0150 - val_acc: 0.9956\n",
            "\n",
            "Epoch 00082: val_loss did not improve from 0.01307\n",
            "Epoch 83/100\n",
            "60000/60000 [==============================] - 8s 138us/step - loss: 0.0137 - acc: 0.9955 - val_loss: 0.0168 - val_acc: 0.9951\n",
            "\n",
            "Epoch 00083: val_loss did not improve from 0.01307\n",
            "Epoch 84/100\n",
            "60000/60000 [==============================] - 8s 140us/step - loss: 0.0151 - acc: 0.9953 - val_loss: 0.0147 - val_acc: 0.9953\n",
            "\n",
            "Epoch 00084: val_loss did not improve from 0.01307\n",
            "Epoch 85/100\n",
            "60000/60000 [==============================] - 8s 138us/step - loss: 0.0141 - acc: 0.9952 - val_loss: 0.0159 - val_acc: 0.9950\n",
            "\n",
            "Epoch 00085: val_loss did not improve from 0.01307\n",
            "Epoch 86/100\n",
            "60000/60000 [==============================] - 8s 138us/step - loss: 0.0145 - acc: 0.9951 - val_loss: 0.0140 - val_acc: 0.9957\n",
            "\n",
            "Epoch 00086: val_loss did not improve from 0.01307\n",
            "Epoch 87/100\n",
            "60000/60000 [==============================] - 8s 139us/step - loss: 0.0135 - acc: 0.9950 - val_loss: 0.0146 - val_acc: 0.9959\n",
            "\n",
            "Epoch 00087: val_loss did not improve from 0.01307\n",
            "Epoch 88/100\n",
            "60000/60000 [==============================] - 8s 139us/step - loss: 0.0138 - acc: 0.9957 - val_loss: 0.0152 - val_acc: 0.9950\n",
            "\n",
            "Epoch 00088: val_loss did not improve from 0.01307\n",
            "Epoch 89/100\n",
            "60000/60000 [==============================] - 8s 139us/step - loss: 0.0139 - acc: 0.9949 - val_loss: 0.0150 - val_acc: 0.9953\n",
            "\n",
            "Epoch 00089: val_loss did not improve from 0.01307\n",
            "Epoch 90/100\n",
            "60000/60000 [==============================] - 8s 139us/step - loss: 0.0147 - acc: 0.9949 - val_loss: 0.0141 - val_acc: 0.9953\n",
            "\n",
            "Epoch 00090: val_loss did not improve from 0.01307\n",
            "Epoch 91/100\n",
            "60000/60000 [==============================] - 8s 137us/step - loss: 0.0136 - acc: 0.9957 - val_loss: 0.0146 - val_acc: 0.9956\n",
            "\n",
            "Epoch 00091: val_loss did not improve from 0.01307\n",
            "Epoch 92/100\n",
            "60000/60000 [==============================] - 8s 139us/step - loss: 0.0136 - acc: 0.9954 - val_loss: 0.0156 - val_acc: 0.9953\n",
            "\n",
            "Epoch 00092: val_loss did not improve from 0.01307\n",
            "Epoch 93/100\n",
            "60000/60000 [==============================] - 8s 138us/step - loss: 0.0125 - acc: 0.9960 - val_loss: 0.0149 - val_acc: 0.9955\n",
            "\n",
            "Epoch 00093: val_loss did not improve from 0.01307\n",
            "Epoch 94/100\n",
            "60000/60000 [==============================] - 8s 138us/step - loss: 0.0135 - acc: 0.9956 - val_loss: 0.0151 - val_acc: 0.9954\n",
            "\n",
            "Epoch 00094: val_loss did not improve from 0.01307\n",
            "Epoch 95/100\n",
            "60000/60000 [==============================] - 9s 143us/step - loss: 0.0122 - acc: 0.9960 - val_loss: 0.0145 - val_acc: 0.9949\n",
            "\n",
            "Epoch 00095: val_loss did not improve from 0.01307\n",
            "Epoch 96/100\n",
            "60000/60000 [==============================] - 8s 140us/step - loss: 0.0137 - acc: 0.9953 - val_loss: 0.0139 - val_acc: 0.9958\n",
            "\n",
            "Epoch 00096: val_loss did not improve from 0.01307\n",
            "Epoch 97/100\n",
            "60000/60000 [==============================] - 8s 135us/step - loss: 0.0126 - acc: 0.9960 - val_loss: 0.0152 - val_acc: 0.9951\n",
            "\n",
            "Epoch 00097: val_loss did not improve from 0.01307\n",
            "Epoch 98/100\n",
            "60000/60000 [==============================] - 8s 136us/step - loss: 0.0132 - acc: 0.9957 - val_loss: 0.0149 - val_acc: 0.9955\n",
            "\n",
            "Epoch 00098: val_loss did not improve from 0.01307\n",
            "Epoch 99/100\n",
            "60000/60000 [==============================] - 8s 138us/step - loss: 0.0126 - acc: 0.9960 - val_loss: 0.0154 - val_acc: 0.9950\n",
            "\n",
            "Epoch 00099: val_loss did not improve from 0.01307\n",
            "Epoch 100/100\n",
            "60000/60000 [==============================] - 8s 138us/step - loss: 0.0126 - acc: 0.9956 - val_loss: 0.0138 - val_acc: 0.9957\n",
            "\n",
            "Epoch 00100: val_loss did not improve from 0.01307\n",
            "Test loss: 0.013767679972390487\n",
            "Test accuracy: 0.9957\n"
          ],
          "name": "stdout"
        }
      ]
    },
    {
      "cell_type": "markdown",
      "metadata": {
        "id": "DfcyqpAx8J4L",
        "colab_type": "text"
      },
      "source": [
        "### Image Corruption"
      ]
    },
    {
      "cell_type": "code",
      "metadata": {
        "id": "WtzFaU94UCrQ",
        "colab_type": "code",
        "colab": {}
      },
      "source": [
        "def corrupt_mnist_img(rng, img, value):\n",
        "    # Choose square size\n",
        "    s = rng.randint(7, 15)\n",
        "    # Choose top-left corner position\n",
        "    x = rng.randint(0, 29 - s)\n",
        "    y = rng.randint(0, 29 - s)\n",
        "    # Draw square\n",
        "    img[..., y:y + s, x:x + s] = value\n",
        "    # Return object for convenience\n",
        "    return img\n",
        "\n",
        "\n",
        "def corrupt_mnist_copy(x_train, value=255, seed=0):\n",
        "    rng = np.random.RandomState(seed)\n",
        "    corrupted_x_train = x_train.copy()\n",
        "    for img in corrupted_x_train:\n",
        "        corrupt_mnist_img(rng, img, value)\n",
        "    return corrupted_x_train"
      ],
      "execution_count": 0,
      "outputs": []
    },
    {
      "cell_type": "markdown",
      "metadata": {
        "id": "SkRBOK8Y8Wq3",
        "colab_type": "text"
      },
      "source": [
        "### Benchmark Code"
      ]
    },
    {
      "cell_type": "code",
      "metadata": {
        "id": "ZEl65d5h8ZjX",
        "colab_type": "code",
        "colab": {}
      },
      "source": [
        "class IdentityModel(keras.Model):\n",
        "\n",
        "    def __init__(self):\n",
        "        super().__init__()\n",
        "        self.identity = keras.layers.Lambda(lambda x: x)\n",
        "\n",
        "    def call(self, x):\n",
        "        return self.identity(x)\n",
        "\n",
        "\n",
        "def _preprocess_for_classifier(x):\n",
        "    return (x - 0.1307) / 0.3081\n",
        "\n",
        "\n",
        "def test_model(model, x_test, y_test, batch_size=100):\n",
        "    rng = np.random.RandomState(0)\n",
        "\n",
        "    channel_dim = 1 if K.image_data_format() == 'channels_first' else -1\n",
        "    # classifier.load_weights('mnist_cnn.h5', by_name=True)\n",
        "\n",
        "    baseline_score = 0\n",
        "    correct_score = 0\n",
        "    ssim_score = 0\n",
        "\n",
        "    N = len(x_test)\n",
        "    assert N % batch_size == 0, 'N should be divisible by batch_size'\n",
        "    num_batches = N // batch_size\n",
        "    for i in range(num_batches):\n",
        "        # Shape: (B, 28, 28, 1) or (B, 1, 28, 28) if channels_first\n",
        "        imgs_orig = np.expand_dims(x_test[batch_size*i:batch_size*(i + 1)], channel_dim)\n",
        "        # Shape: (B,)\n",
        "        labels = y_test[batch_size*i:batch_size*(i + 1)]\n",
        "\n",
        "        # Create corruption masks\n",
        "        masks = []\n",
        "        for _ in range(batch_size):\n",
        "            # Choose square size\n",
        "            s = rng.randint(7, 15)\n",
        "            # Choose top-left corner position\n",
        "            x = rng.randint(0, 29 - s)\n",
        "            y = rng.randint(0, 29 - s)\n",
        "            mask = np.zeros(imgs_orig.shape[1:], dtype=np.bool)\n",
        "            # Set mask area\n",
        "            mask[y:y + s, x:x + s, :] = True\n",
        "            masks.append(mask)\n",
        "        masks = np.stack(masks)\n",
        "\n",
        "        imgs_corrupted = imgs_orig.copy()\n",
        "        # Draw squares\n",
        "        imgs_corrupted[masks] = 1.\n",
        "\n",
        "        # Generate restored images\n",
        "        imgs_restored = model.predict_on_batch(imgs_corrupted)\n",
        "\n",
        "        predicted_labels_orig = classifier.predict_on_batch(_preprocess_for_classifier(imgs_orig)).argmax(axis=-1)\n",
        "        predicted_labels_restored = classifier.predict_on_batch(_preprocess_for_classifier(imgs_restored)).argmax(axis=-1)\n",
        "        # Calculate classifier score\n",
        "        baseline = labels == predicted_labels_orig\n",
        "        correct = baseline == (labels == predicted_labels_restored)\n",
        "        baseline_score += int(baseline.sum())\n",
        "        correct_score += int(correct.sum())\n",
        "\n",
        "        ssim_score += structural_similarity(imgs_orig[~masks].squeeze(), imgs_restored[~masks].squeeze())\n",
        "\n",
        "    classifier_score = correct_score / baseline_score\n",
        "    ssim_score /= num_batches\n",
        "\n",
        "    print('Classifier score: {:.2f}\\nSSIM score: {:.2f}'.format(100 * classifier_score, 100 * ssim_score))"
      ],
      "execution_count": 0,
      "outputs": []
    },
    {
      "cell_type": "markdown",
      "metadata": {
        "id": "rU-SsR928nSl",
        "colab_type": "text"
      },
      "source": [
        "### Reshape Dimensions"
      ]
    },
    {
      "cell_type": "code",
      "metadata": {
        "id": "v0OE34jLUyVa",
        "colab_type": "code",
        "colab": {}
      },
      "source": [
        "image_size = x_train.shape[1]\n",
        "\n",
        "x_train_start = x_train\n",
        "x_test_start = x_test\n",
        "x_train_noisy_start = corrupt_mnist_copy(x_train)\n",
        "x_test_noisy_start = corrupt_mnist_copy(x_test)\n",
        "x_test_noisy_reshaped = np.reshape(x_test_noisy_start, [-1, image_size, image_size, 1])\n",
        "x_test_noisy_reshaped = x_test_noisy_reshaped / 255"
      ],
      "execution_count": 0,
      "outputs": []
    },
    {
      "cell_type": "code",
      "metadata": {
        "id": "39-msG3Khhdx",
        "colab_type": "code",
        "colab": {}
      },
      "source": [
        "x_train = np.reshape(x_train, [-1, image_size, image_size, 1])\n",
        "x_test = np.reshape(x_test, [-1, image_size, image_size, 1])\n",
        "\n",
        "x_train_noisy = corrupt_mnist_copy(x_train)\n",
        "x_test_noisy = corrupt_mnist_copy(x_test)\n",
        "\n",
        "x_train = x_train / 255\n",
        "x_test = x_test  / 255\n",
        "x_train_noisy = x_train_noisy / 255\n",
        "x_test_noisy = x_test_noisy / 255"
      ],
      "execution_count": 0,
      "outputs": []
    },
    {
      "cell_type": "markdown",
      "metadata": {
        "id": "oUPFr0DwDtzw",
        "colab_type": "text"
      },
      "source": [
        "# 1.   **Data Visualization**\n",
        "\n"
      ]
    },
    {
      "cell_type": "code",
      "metadata": {
        "id": "wBYaNhacPvH3",
        "colab_type": "code",
        "outputId": "25f71b1d-10e9-4cff-ecc5-2bbaa19031ba",
        "colab": {
          "base_uri": "https://localhost:8080/",
          "height": 0
        }
      },
      "source": [
        "print(\"[ORIGINAL DATA]\")\n",
        "fig=plt.figure(figsize=(8, 4))\n",
        "columns = 5\n",
        "rows = 2\n",
        "for i in range(1, columns*rows + 1):\n",
        "    img = x_test_start[i]\n",
        "    fig.add_subplot(rows, columns, i)\n",
        "    plt.imshow(img, cmap='gray')\n",
        "plt.show()"
      ],
      "execution_count": 9,
      "outputs": [
        {
          "output_type": "stream",
          "text": [
            "[ORIGINAL DATA]\n"
          ],
          "name": "stdout"
        },
        {
          "output_type": "display_data",
          "data": {
            "image/png": "[encoded data removed]",
            "text/plain": [
              "<Figure size 576x288 with 10 Axes>"
            ]
          },
          "metadata": {
            "tags": []
          }
        }
      ]
    },
    {
      "cell_type": "code",
      "metadata": {
        "id": "tCYsx5dWSdAJ",
        "colab_type": "code",
        "outputId": "8f454b01-b01d-430c-9ca7-63408323d3a3",
        "colab": {
          "base_uri": "https://localhost:8080/",
          "height": 0
        }
      },
      "source": [
        "print(\"[CORRUPTED DATA]\")\n",
        "fig=plt.figure(figsize=(8, 4))\n",
        "columns = 5\n",
        "rows = 2\n",
        "for i in range(1, columns*rows + 1):\n",
        "    img = x_test_noisy_start[i]\n",
        "    fig.add_subplot(rows, columns, i)\n",
        "    plt.imshow(img, cmap='gray')\n",
        "plt.show()"
      ],
      "execution_count": 10,
      "outputs": [
        {
          "output_type": "stream",
          "text": [
            "[CORRUPTED DATA]\n"
          ],
          "name": "stdout"
        },
        {
          "output_type": "display_data",
          "data": {
            "image/png": "[encoded data removed]",
            "text/plain": [
              "<Figure size 576x288 with 10 Axes>"
            ]
          },
          "metadata": {
            "tags": []
          }
        }
      ]
    },
    {
      "cell_type": "code",
      "metadata": {
        "id": "ub7D6f2JhkJY",
        "colab_type": "code",
        "colab": {}
      },
      "source": [
        "# Network parameters\n",
        "input_shape = (image_size, image_size, 1)\n",
        "batch_size = 128\n",
        "kernel_size = 3\n",
        "latent_dim = 16"
      ],
      "execution_count": 0,
      "outputs": []
    },
    {
      "cell_type": "code",
      "metadata": {
        "id": "nAKKk1VuhlcT",
        "colab_type": "code",
        "colab": {}
      },
      "source": [
        "# Encoder/Decoder number of CNN layers and filters per layer\n",
        "layer_filters = [32, 64]"
      ],
      "execution_count": 0,
      "outputs": []
    },
    {
      "cell_type": "code",
      "metadata": {
        "id": "msXeB42RhmWe",
        "colab_type": "code",
        "colab": {}
      },
      "source": [
        "inputs = Input(shape=input_shape, name='encoder_input')\n",
        "x = inputs\n",
        "\n",
        "for filters in layer_filters:\n",
        "    x = Conv2D(filters=filters,\n",
        "               kernel_size=kernel_size,\n",
        "               strides=2,\n",
        "               activation='relu',\n",
        "               padding='same')(x)"
      ],
      "execution_count": 0,
      "outputs": []
    },
    {
      "cell_type": "code",
      "metadata": {
        "id": "ASA94Ww7holw",
        "colab_type": "code",
        "colab": {}
      },
      "source": [
        "# Shape info needed to build Decoder Model\n",
        "shape = K.int_shape(x)"
      ],
      "execution_count": 0,
      "outputs": []
    },
    {
      "cell_type": "code",
      "metadata": {
        "id": "5dr4TGTfhpdE",
        "colab_type": "code",
        "colab": {}
      },
      "source": [
        "# Generate the latent vector\n",
        "x = Flatten()(x)\n",
        "latent = Dense(latent_dim, name='latent_vector')(x)"
      ],
      "execution_count": 0,
      "outputs": []
    },
    {
      "cell_type": "code",
      "metadata": {
        "id": "qXepsa--hqFV",
        "colab_type": "code",
        "colab": {}
      },
      "source": [
        "# Instantiate Encoder Model\n",
        "encoder = Model(inputs, latent, name='encoder')"
      ],
      "execution_count": 0,
      "outputs": []
    },
    {
      "cell_type": "code",
      "metadata": {
        "id": "ri47wFMjhqvp",
        "colab_type": "code",
        "colab": {}
      },
      "source": [
        "# Build the Decoder Model\n",
        "latent_inputs = Input(shape=(latent_dim,), name='decoder_input')\n",
        "x = Dense(shape[1] * shape[2] * shape[3])(latent_inputs)\n",
        "x = Reshape((shape[1], shape[2], shape[3]))(x)"
      ],
      "execution_count": 0,
      "outputs": []
    },
    {
      "cell_type": "code",
      "metadata": {
        "id": "kirkMp8Ehrc9",
        "colab_type": "code",
        "colab": {}
      },
      "source": [
        "for filters in layer_filters[::-1]:\n",
        "    x = Conv2DTranspose(filters=filters,\n",
        "                        kernel_size=kernel_size,\n",
        "                        strides=2,\n",
        "                        activation='relu',\n",
        "                        padding='same')(x)\n",
        "\n",
        "x = Conv2DTranspose(filters=1,\n",
        "                    kernel_size=kernel_size,\n",
        "                    padding='same')(x)\n",
        "\n",
        "outputs = Activation('sigmoid', name='decoder_output')(x)"
      ],
      "execution_count": 0,
      "outputs": []
    },
    {
      "cell_type": "code",
      "metadata": {
        "id": "5yECSf_dhtDY",
        "colab_type": "code",
        "colab": {}
      },
      "source": [
        "# Instantiate Decoder Model\n",
        "decoder = Model(latent_inputs, outputs, name='decoder')"
      ],
      "execution_count": 0,
      "outputs": []
    },
    {
      "cell_type": "markdown",
      "metadata": {
        "id": "MjJGT894CMcr",
        "colab_type": "text"
      },
      "source": [
        "# 2.   **Model Summary**"
      ]
    },
    {
      "cell_type": "code",
      "metadata": {
        "id": "9MEanWTwhuA6",
        "colab_type": "code",
        "outputId": "69482b84-52de-47e7-99c4-13270963babd",
        "colab": {
          "base_uri": "https://localhost:8080/",
          "height": 0
        }
      },
      "source": [
        "# Autoencoder = Encoder + Decoder\n",
        "# Instantiate Autoencoder Model\n",
        "autoencoder = Model(inputs, decoder(encoder(inputs)), name='autoencoder')\n",
        "\n",
        "print(\"[TEXT SUMMARY]\\n\")\n",
        "autoencoder.summary()\n",
        "\n",
        "print(\"\\n\\n[IMAGE SUMMARY]\\n\")\n",
        "plot_model(autoencoder, to_file = 'AE_mnist.png', show_shapes = True)"
      ],
      "execution_count": 20,
      "outputs": [
        {
          "output_type": "stream",
          "text": [
            "[TEXT SUMMARY]\n",
            "\n",
            "Model: \"autoencoder\"\n",
            "_________________________________________________________________\n",
            "Layer (type)                 Output Shape              Param #   \n",
            "=================================================================\n",
            "encoder_input (InputLayer)   (None, 28, 28, 1)         0         \n",
            "_________________________________________________________________\n",
            "encoder (Model)              (None, 16)                69008     \n",
            "_________________________________________________________________\n",
            "decoder (Model)              (None, 28, 28, 1)         108993    \n",
            "=================================================================\n",
            "Total params: 178,001\n",
            "Trainable params: 178,001\n",
            "Non-trainable params: 0\n",
            "_________________________________________________________________\n",
            "\n",
            "\n",
            "[IMAGE SUMMARY]\n",
            "\n"
          ],
          "name": "stdout"
        },
        {
          "output_type": "execute_result",
          "data": {
            "image/png": "[encoded data removed]",
            "text/plain": [
              "<IPython.core.display.Image object>"
            ]
          },
          "metadata": {
            "tags": []
          },
          "execution_count": 20
        }
      ]
    },
    {
      "cell_type": "code",
      "metadata": {
        "id": "Iu9NQBEchu7c",
        "colab_type": "code",
        "colab": {}
      },
      "source": [
        "# checkpoint = ModelCheckpoint('mnist_cnn.h5',\n",
        "#                             verbose=0, save_best_only=True, save_weights_only=True)\n",
        "autoencoder.compile(loss='mse', optimizer='adam')"
      ],
      "execution_count": 0,
      "outputs": []
    },
    {
      "cell_type": "markdown",
      "metadata": {
        "id": "_gDwCwqeC661",
        "colab_type": "text"
      },
      "source": [
        "# 3.  **Plots of losses per epoch**\n",
        "\n"
      ]
    },
    {
      "cell_type": "code",
      "metadata": {
        "id": "36grueivhwEX",
        "colab_type": "code",
        "outputId": "1c20b180-6dab-4f3a-f904-96140546906e",
        "colab": {
          "base_uri": "https://localhost:8080/",
          "height": 0
        }
      },
      "source": [
        "# Train the autoencoder\n",
        "epochs = 5\n",
        "history = autoencoder.fit(x_train_noisy,\n",
        "                x_train,\n",
        "                validation_data=(x_test_noisy, x_test),\n",
        "                epochs=epochs,\n",
        "                batch_size=batch_size, verbose=0)\n",
        "\n",
        "print(\"Training:\" , epochs , \"Epochs\")\n",
        "autoencoder.history\n",
        "\n",
        "# List all data in history\n",
        "print(history.history.keys())\n",
        "# Summarize history for loss\n",
        "plt.plot(history.history['loss'])\n",
        "plt.plot(history.history['val_loss'])\n",
        "plt.title('Model for Loss')\n",
        "plt.ylabel('Loss')\n",
        "plt.xlabel('Epoch')\n",
        "plt.legend(['train', 'test'], loc='upper left')\n",
        "plt.show()"
      ],
      "execution_count": 22,
      "outputs": [
        {
          "output_type": "stream",
          "text": [
            "Training: 5 Epochs\n",
            "dict_keys(['val_loss', 'loss'])\n"
          ],
          "name": "stdout"
        },
        {
          "output_type": "display_data",
          "data": {
            "image/png": "[encoded data removed]",
            "text/plain": [
              "<Figure size 432x288 with 1 Axes>"
            ]
          },
          "metadata": {
            "tags": []
          }
        }
      ]
    },
    {
      "cell_type": "code",
      "metadata": {
        "id": "KTxD4Uo4hxv0",
        "colab_type": "code",
        "colab": {}
      },
      "source": [
        "# Predict the Autoencoder output from corrupted test images\n",
        "x_decoded = autoencoder.predict(x_test_noisy)"
      ],
      "execution_count": 0,
      "outputs": []
    },
    {
      "cell_type": "code",
      "metadata": {
        "id": "DmqjBU8Bhyiy",
        "colab_type": "code",
        "outputId": "fa4d83d1-2fc8-4316-e5e3-ed6fe4708cdd",
        "colab": {
          "base_uri": "https://localhost:8080/",
          "height": 0
        }
      },
      "source": [
        "# Display at least 5 samples for the results\n",
        "rows, cols = 1, 5\n",
        "num = rows * cols\n",
        "imgs = np.concatenate([x_test[:num], x_test_noisy_reshaped[:num], x_decoded[:num]])\n",
        "imgs = imgs.reshape((rows * 3, cols, image_size, image_size))\n",
        "imgs = np.vstack(np.split(imgs, rows, axis=1))\n",
        "imgs = imgs.reshape((rows * 3, -1, image_size, image_size))\n",
        "imgs = np.vstack([np.hstack(i) for i in imgs])\n",
        "imgs = (imgs * 255).astype(np.uint8)\n",
        "plt.figure()"
      ],
      "execution_count": 24,
      "outputs": [
        {
          "output_type": "execute_result",
          "data": {
            "text/plain": [
              "<Figure size 432x288 with 0 Axes>"
            ]
          },
          "metadata": {
            "tags": []
          },
          "execution_count": 24
        },
        {
          "output_type": "display_data",
          "data": {
            "text/plain": [
              "<Figure size 432x288 with 0 Axes>"
            ]
          },
          "metadata": {
            "tags": []
          }
        }
      ]
    },
    {
      "cell_type": "markdown",
      "metadata": {
        "id": "KD2iiZtDDcWe",
        "colab_type": "text"
      },
      "source": [
        "# 4. **Results (5 Samples)**\n",
        "\n"
      ]
    },
    {
      "cell_type": "code",
      "metadata": {
        "id": "yzifMYhXhz6g",
        "colab_type": "code",
        "outputId": "e7b9ba59-a42d-405a-b447-52450cc7270a",
        "colab": {
          "base_uri": "https://localhost:8080/",
          "height": 0
        }
      },
      "source": [
        "plt.axis('off')\n",
        "print('\\t [TOP ROW] Original Images\\n\\t [MIDDLE ROW] Corrupted Images\\n\\t [LAST ROW] Restored Images')\n",
        "plt.imshow(imgs, interpolation='none', cmap='gray')\n",
        "# Image.fromarray(imgs).save('corrupted_and_denoised.png')\n",
        "plt.show()"
      ],
      "execution_count": 25,
      "outputs": [
        {
          "output_type": "stream",
          "text": [
            "\t [TOP ROW] Original Images\n",
            "\t [MIDDLE ROW] Corrupted Images\n",
            "\t [LAST ROW] Restored Images\n"
          ],
          "name": "stdout"
        },
        {
          "output_type": "display_data",
          "data": {
            "image/png": "[encoded data removed]",
            "text/plain": [
              "<Figure size 432x288 with 1 Axes>"
            ]
          },
          "metadata": {
            "tags": []
          }
        }
      ]
    },
    {
      "cell_type": "markdown",
      "metadata": {
        "id": "ZFFR7Ldo89-8",
        "colab_type": "text"
      },
      "source": [
        "# 5. **Benchmark Output**\n",
        "\n"
      ]
    },
    {
      "cell_type": "code",
      "metadata": {
        "id": "smYwcF7N9CBM",
        "colab_type": "code",
        "outputId": "c98f42df-e2a6-47b1-dcb1-6e508512a499",
        "colab": {
          "base_uri": "https://localhost:8080/",
          "height": 91
        }
      },
      "source": [
        "(x_train, y_train), (x_test, y_test) = mnist.load_data()\n",
        "\n",
        "x_test = x_test / 255\n",
        "\n",
        "test_model(autoencoder, x_test, y_test, batch_size=100)"
      ],
      "execution_count": 26,
      "outputs": [
        {
          "output_type": "stream",
          "text": [
            "/usr/local/lib/python3.6/dist-packages/ipykernel_launcher.py:89: UserWarning: Inputs have mismatched dtype.  Setting data_range based on im1.dtype.\n"
          ],
          "name": "stderr"
        },
        {
          "output_type": "stream",
          "text": [
            "Classifier score: 58.77\n",
            "SSIM score: 77.27\n"
          ],
          "name": "stdout"
        }
      ]
    }
  ]
}